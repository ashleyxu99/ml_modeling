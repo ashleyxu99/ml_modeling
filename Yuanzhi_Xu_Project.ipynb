{
 "cells": [
  {
   "cell_type": "markdown",
   "metadata": {},
   "source": [
    "# Wikipedia Talk Data - Getting Started"
   ]
  },
  {
   "cell_type": "markdown",
   "metadata": {},
   "source": [
    "This notebook gives an introduction to working with the various data sets in [Wikipedia\n",
    "Talk](https://figshare.com/projects/Wikipedia_Talk/16731) project on Figshare. The release includes:\n",
    "\n",
    "1. a large historical corpus of discussion comments on Wikipedia talk pages\n",
    "2. a sample of over 100k comments with human labels for whether the comment contains a personal attack\n",
    "3. a sample of over 100k comments with human labels for whether the comment has aggressive tone\n",
    "\n",
    "Please refer to our [wiki](https://meta.wikimedia.org/wiki/Research:Detox/Data_Release) for documentation of the schema of each data set and our [research paper](https://arxiv.org/abs/1610.08914) for documentation on the data collection and modeling methodology. \n",
    "\n",
    "In this notebook we show how to build a simple classifier for detecting personal attacks and apply the classifier to a random sample of the comment corpus to see whether discussions on user pages have more personal attacks than discussion on article pages."
   ]
  },
  {
   "cell_type": "markdown",
   "metadata": {},
   "source": [
    "##  Building a classifier for personal attacks\n",
    "In this section we will train a simple bag-of-words classifier for personal attacks using the [Wikipedia Talk Labels: Personal Attacks]() data set."
   ]
  },
  {
   "cell_type": "code",
   "execution_count": 1,
   "metadata": {},
   "outputs": [],
   "source": [
    "import pandas as pd\n",
    "import urllib\n",
    "import unidecode\n",
    "import json\n",
    "import re\n",
    "import numpy as np\n",
    "import matplotlib.pyplot as plt\n",
    "from sklearn.pipeline import Pipeline\n",
    "from sklearn.feature_extraction.text import CountVectorizer\n",
    "from sklearn.feature_extraction.text import TfidfTransformer\n",
    "from sklearn.tree import DecisionTreeClassifier\n",
    "from sklearn.metrics import precision_recall_fscore_support\n",
    "from sklearn import metrics"
   ]
  },
  {
   "cell_type": "code",
   "execution_count": 2,
   "metadata": {},
   "outputs": [],
   "source": [
    "# download annotated comments and annotations\n",
    "\n",
    "ANNOTATED_COMMENTS_URL = 'https://ndownloader.figshare.com/files/7554634' \n",
    "ANNOTATIONS_URL = 'https://ndownloader.figshare.com/files/7554637' \n",
    "\n",
    "def download_file(url, fname):\n",
    "    urllib.request.urlretrieve(url, fname)\n",
    "\n",
    "# You can edit the code here to download only once, and not download it later                \n",
    "#download_file(ANNOTATED_COMMENTS_URL, 'attack_annotated_comments.tsv')\n",
    "#download_file(ANNOTATIONS_URL, 'attack_annotations.tsv')"
   ]
  },
  {
   "cell_type": "code",
   "execution_count": 3,
   "metadata": {},
   "outputs": [],
   "source": [
    "comments = pd.read_csv('attack_annotated_comments.tsv', sep = '\\t', index_col = 0)\n",
    "annotations = pd.read_csv('attack_annotations.tsv',  sep = '\\t')"
   ]
  },
  {
   "cell_type": "code",
   "execution_count": 4,
   "metadata": {},
   "outputs": [
    {
     "data": {
      "text/plain": [
       "115864"
      ]
     },
     "execution_count": 4,
     "metadata": {},
     "output_type": "execute_result"
    }
   ],
   "source": [
    "len(annotations['rev_id'].unique())"
   ]
  },
  {
   "cell_type": "code",
   "execution_count": 5,
   "metadata": {},
   "outputs": [],
   "source": [
    "# labels a comment as an attack if the majority of annotators did so\n",
    "labels = annotations.groupby('rev_id')['attack'].mean() > 0.5"
   ]
  },
  {
   "cell_type": "code",
   "execution_count": 6,
   "metadata": {},
   "outputs": [
    {
     "name": "stdout",
     "output_type": "stream",
     "text": [
      "                                                  comment  year  logged_in  \\\n",
      "rev_id                                                                       \n",
      "37675   `-NEWLINE_TOKENThis is not ``creative``.  Thos...  2002      False   \n",
      "44816   `NEWLINE_TOKENNEWLINE_TOKEN:: the term ``stand...  2002      False   \n",
      "49851   NEWLINE_TOKENNEWLINE_TOKENTrue or false, the s...  2002      False   \n",
      "89320    Next, maybe you could work on being less cond...  2002       True   \n",
      "93890                This page will need disambiguation.   2002       True   \n",
      "102817  NEWLINE_TOKEN-NEWLINE_TOKENNEWLINE_TOKENImport...  2002       True   \n",
      "103624  I removed the following:NEWLINE_TOKENNEWLINE_T...  2002       True   \n",
      "111032  `:If you ever claimed in a Judaic studies prog...  2002       True   \n",
      "120283  NEWLINE_TOKENNEWLINE_TOKENNEWLINE_TOKENMy apol...  2002       True   \n",
      "128532  `Someone wrote:NEWLINE_TOKENMore recognizable,...  2002       True   \n",
      "\n",
      "             ns  sample  split  attack  \n",
      "rev_id                                  \n",
      "37675   article  random  train   False  \n",
      "44816   article  random  train   False  \n",
      "49851   article  random  train   False  \n",
      "89320   article  random    dev   False  \n",
      "93890   article  random  train   False  \n",
      "102817     user  random  train   False  \n",
      "103624  article  random  train   False  \n",
      "111032  article  random    dev   False  \n",
      "120283  article  random    dev   False  \n",
      "128532  article  random  train   False  \n"
     ]
    }
   ],
   "source": [
    "# join labels and comments\n",
    "comments['attack'] = labels\n",
    "print(comments.head(10))"
   ]
  },
  {
   "cell_type": "markdown",
   "metadata": {},
   "source": [
    "## Visualize the data"
   ]
  },
  {
   "cell_type": "code",
   "execution_count": 7,
   "metadata": {},
   "outputs": [],
   "source": [
    "# Analyze the year\n",
    "pYear = comments.query('attack').groupby('year').count().reset_index()"
   ]
  },
  {
   "cell_type": "code",
   "execution_count": 8,
   "metadata": {},
   "outputs": [
    {
     "data": {
      "image/png": "[encoded data removed]",
      "text/plain": [
       "<Figure size 432x288 with 1 Axes>"
      ]
     },
     "metadata": {
      "needs_background": "light"
     },
     "output_type": "display_data"
    }
   ],
   "source": [
    "# display a bar chartpYear = comments.query('attack').groupby('year').count().reset_index()\n",
    "plt.bar(\"year\", \"attack\", data = pYear, color = \"blue\")\n",
    "plt.xlabel(\"Parameters\")\n",
    "plt.ylabel(\"Attacks\")\n",
    "plt.title(\"Attacks in different years\")\n",
    "plt.show()"
   ]
  },
  {
   "cell_type": "code",
   "execution_count": 9,
   "metadata": {},
   "outputs": [
    {
     "name": "stdout",
     "output_type": "stream",
     "text": [
      "   logged_in  comment  year    ns  sample  split  attack\n",
      "0      False     7635  7635  7635    7635   7635    7635\n",
      "1       True     5955  5955  5955    5955   5955    5955\n"
     ]
    }
   ],
   "source": [
    "# Analyze the log_in parameter\n",
    "pLoggedin = comments.query('attack').groupby('logged_in').count().reset_index()\n",
    "print(pLoggedin)"
   ]
  },
  {
   "cell_type": "code",
   "execution_count": 10,
   "metadata": {},
   "outputs": [
    {
     "data": {
      "image/png": "[encoded data removed]",
      "text/plain": [
       "<Figure size 432x288 with 1 Axes>"
      ]
     },
     "metadata": {},
     "output_type": "display_data"
    }
   ],
   "source": [
    "# display a pie chart\n",
    "labels = ['Not Logged In','Logged In' ]\n",
    "colors = ['lightskyblue', 'gold']\n",
    "plt.pie(pLoggedin['attack'], labels= labels, colors=colors, startangle=90, autopct='%.1f%%')\n",
    "plt.title(\"Attacks with different loggined status\")\n",
    "plt.show()"
   ]
  },
  {
   "cell_type": "code",
   "execution_count": 11,
   "metadata": {},
   "outputs": [
    {
     "name": "stdout",
     "output_type": "stream",
     "text": [
      "        ns  comment   year  logged_in  sample  split  attack\n",
      "0  article     2249   2249       2249    2249   2249    2249\n",
      "1     user    11341  11341      11341   11341  11341   11341\n"
     ]
    }
   ],
   "source": [
    "# Analyze the ns parameter\n",
    "pNS = comments.query('attack').groupby('ns').count().reset_index()\n",
    "print(pNS)"
   ]
  },
  {
   "cell_type": "code",
   "execution_count": 12,
   "metadata": {},
   "outputs": [
    {
     "data": {
      "image/png": "[encoded data removed]",
      "text/plain": [
       "<Figure size 432x288 with 1 Axes>"
      ]
     },
     "metadata": {},
     "output_type": "display_data"
    }
   ],
   "source": [
    "# display a pie chart\n",
    "labels = ['article', 'user']\n",
    "colors = ['lightskyblue', 'gold']\n",
    "plt.pie(pNS['attack'], labels= labels, colors=colors, startangle=90, autopct='%.1f%%')\n",
    "plt.title(\"Attacks with different namespace\")\n",
    "plt.show()"
   ]
  },
  {
   "cell_type": "markdown",
   "metadata": {},
   "source": [
    "# Clean the data"
   ]
  },
  {
   "cell_type": "code",
   "execution_count": 13,
   "metadata": {},
   "outputs": [],
   "source": [
    "# remove newline and tab tokens\n",
    "comments['comment'] = comments['comment'].apply(lambda x: x.replace(\"NEWLINE_TOKEN\", \" \"))\n",
    "comments['comment'] = comments['comment'].apply(lambda x: x.replace(\"TAB_TOKEN\", \" \"))"
   ]
  },
  {
   "cell_type": "code",
   "execution_count": 14,
   "metadata": {},
   "outputs": [],
   "source": [
    "# lower and remove non unicode characters\n",
    "def standardize(text):\n",
    "    return unidecode.unidecode(text.lower())\n",
    "\n",
    "comments['comment'] = comments.comment.apply(standardize)"
   ]
  },
  {
   "cell_type": "code",
   "execution_count": 15,
   "metadata": {},
   "outputs": [],
   "source": [
    "# remove non-alphabetical characters\n",
    "def remove_non_alpha(text):\n",
    "    regex = re.compile('[^a-zA-Z\\s]')\n",
    "    return regex.sub('', text)\n",
    "\n",
    "comments['comment'] = comments.comment.apply(remove_non_alpha)"
   ]
  },
  {
   "cell_type": "code",
   "execution_count": 16,
   "metadata": {},
   "outputs": [
    {
     "data": {
      "text/html": [
       "<div>\n",
       "<style scoped>\n",
       "    .dataframe tbody tr th:only-of-type {\n",
       "        vertical-align: middle;\n",
       "    }\n",
       "\n",
       "    .dataframe tbody tr th {\n",
       "        vertical-align: top;\n",
       "    }\n",
       "\n",
       "    .dataframe thead th {\n",
       "        text-align: right;\n",
       "    }\n",
       "</style>\n",
       "<table border=\"1\" class=\"dataframe\">\n",
       "  <thead>\n",
       "    <tr style=\"text-align: right;\">\n",
       "      <th></th>\n",
       "      <th>comment</th>\n",
       "      <th>year</th>\n",
       "      <th>logged_in</th>\n",
       "      <th>ns</th>\n",
       "      <th>sample</th>\n",
       "      <th>split</th>\n",
       "      <th>attack</th>\n",
       "    </tr>\n",
       "    <tr>\n",
       "      <th>rev_id</th>\n",
       "      <th></th>\n",
       "      <th></th>\n",
       "      <th></th>\n",
       "      <th></th>\n",
       "      <th></th>\n",
       "      <th></th>\n",
       "      <th></th>\n",
       "    </tr>\n",
       "  </thead>\n",
       "  <tbody>\n",
       "    <tr>\n",
       "      <th>801279</th>\n",
       "      <td>iraq is not good      usa is bad</td>\n",
       "      <td>2003</td>\n",
       "      <td>False</td>\n",
       "      <td>article</td>\n",
       "      <td>random</td>\n",
       "      <td>train</td>\n",
       "      <td>True</td>\n",
       "    </tr>\n",
       "    <tr>\n",
       "      <th>2702703</th>\n",
       "      <td>fuck off you little asshole if you want to ...</td>\n",
       "      <td>2004</td>\n",
       "      <td>False</td>\n",
       "      <td>user</td>\n",
       "      <td>random</td>\n",
       "      <td>train</td>\n",
       "      <td>True</td>\n",
       "    </tr>\n",
       "    <tr>\n",
       "      <th>4632658</th>\n",
       "      <td>i have a dick its bigger than yours hahaha</td>\n",
       "      <td>2004</td>\n",
       "      <td>False</td>\n",
       "      <td>article</td>\n",
       "      <td>blocked</td>\n",
       "      <td>train</td>\n",
       "      <td>True</td>\n",
       "    </tr>\n",
       "    <tr>\n",
       "      <th>6545332</th>\n",
       "      <td>renault   you sad little bpy for driving a ...</td>\n",
       "      <td>2004</td>\n",
       "      <td>True</td>\n",
       "      <td>user</td>\n",
       "      <td>blocked</td>\n",
       "      <td>train</td>\n",
       "      <td>True</td>\n",
       "    </tr>\n",
       "    <tr>\n",
       "      <th>6545351</th>\n",
       "      <td>renault   you sad little bo for driving a r...</td>\n",
       "      <td>2004</td>\n",
       "      <td>True</td>\n",
       "      <td>user</td>\n",
       "      <td>blocked</td>\n",
       "      <td>test</td>\n",
       "      <td>True</td>\n",
       "    </tr>\n",
       "    <tr>\n",
       "      <th>7977970</th>\n",
       "      <td>nov  utc  because you like to accuse me of r...</td>\n",
       "      <td>2004</td>\n",
       "      <td>True</td>\n",
       "      <td>article</td>\n",
       "      <td>random</td>\n",
       "      <td>train</td>\n",
       "      <td>True</td>\n",
       "    </tr>\n",
       "    <tr>\n",
       "      <th>8359431</th>\n",
       "      <td>you are not worth the effort you are arguing...</td>\n",
       "      <td>2004</td>\n",
       "      <td>True</td>\n",
       "      <td>user</td>\n",
       "      <td>blocked</td>\n",
       "      <td>train</td>\n",
       "      <td>True</td>\n",
       "    </tr>\n",
       "    <tr>\n",
       "      <th>8724028</th>\n",
       "      <td>yes complain to your rabbi and then go shoot s...</td>\n",
       "      <td>2004</td>\n",
       "      <td>True</td>\n",
       "      <td>user</td>\n",
       "      <td>blocked</td>\n",
       "      <td>test</td>\n",
       "      <td>True</td>\n",
       "    </tr>\n",
       "    <tr>\n",
       "      <th>8845700</th>\n",
       "      <td>i am using the sandbox ass wipe</td>\n",
       "      <td>2004</td>\n",
       "      <td>False</td>\n",
       "      <td>user</td>\n",
       "      <td>blocked</td>\n",
       "      <td>train</td>\n",
       "      <td>True</td>\n",
       "    </tr>\n",
       "    <tr>\n",
       "      <th>8845736</th>\n",
       "      <td>god damn   god damn it fuckers i am using t...</td>\n",
       "      <td>2004</td>\n",
       "      <td>False</td>\n",
       "      <td>user</td>\n",
       "      <td>blocked</td>\n",
       "      <td>dev</td>\n",
       "      <td>True</td>\n",
       "    </tr>\n",
       "  </tbody>\n",
       "</table>\n",
       "</div>"
      ],
      "text/plain": [
       "                                                   comment  year  logged_in  \\\n",
       "rev_id                                                                        \n",
       "801279                 iraq is not good      usa is bad     2003      False   \n",
       "2702703     fuck off you little asshole if you want to ...  2004      False   \n",
       "4632658         i have a dick its bigger than yours hahaha  2004      False   \n",
       "6545332     renault   you sad little bpy for driving a ...  2004       True   \n",
       "6545351     renault   you sad little bo for driving a r...  2004       True   \n",
       "7977970    nov  utc  because you like to accuse me of r...  2004       True   \n",
       "8359431    you are not worth the effort you are arguing...  2004       True   \n",
       "8724028  yes complain to your rabbi and then go shoot s...  2004       True   \n",
       "8845700                    i am using the sandbox ass wipe  2004      False   \n",
       "8845736     god damn   god damn it fuckers i am using t...  2004      False   \n",
       "\n",
       "              ns   sample  split  attack  \n",
       "rev_id                                    \n",
       "801279   article   random  train    True  \n",
       "2702703     user   random  train    True  \n",
       "4632658  article  blocked  train    True  \n",
       "6545332     user  blocked  train    True  \n",
       "6545351     user  blocked   test    True  \n",
       "7977970  article   random  train    True  \n",
       "8359431     user  blocked  train    True  \n",
       "8724028     user  blocked   test    True  \n",
       "8845700     user  blocked  train    True  \n",
       "8845736     user  blocked    dev    True  "
      ]
     },
     "execution_count": 16,
     "metadata": {},
     "output_type": "execute_result"
    }
   ],
   "source": [
    "comments.query('attack').head(10)"
   ]
  },
  {
   "cell_type": "code",
   "execution_count": 17,
   "metadata": {},
   "outputs": [
    {
     "data": {
      "text/plain": [
       "rev_id\n",
       "801279                   iraq is not good      usa is bad   \n",
       "2702703       fuck off you little asshole if you want to ...\n",
       "4632658           i have a dick its bigger than yours hahaha\n",
       "6545332       renault   you sad little bpy for driving a ...\n",
       "6545351       renault   you sad little bo for driving a r...\n",
       "7977970      nov  utc  because you like to accuse me of r...\n",
       "8359431      you are not worth the effort you are arguing...\n",
       "8724028    yes complain to your rabbi and then go shoot s...\n",
       "8845700                      i am using the sandbox ass wipe\n",
       "8845736       god damn   god damn it fuckers i am using t...\n",
       "Name: comment, dtype: object"
      ]
     },
     "execution_count": 17,
     "metadata": {},
     "output_type": "execute_result"
    }
   ],
   "source": [
    "comments.query('attack')['comment'].head(10)"
   ]
  },
  {
   "cell_type": "markdown",
   "metadata": {},
   "source": []
  },
  {
   "cell_type": "markdown",
   "metadata": {},
   "source": [
    "## Sample DecsionTree Classifier"
   ]
  },
  {
   "cell_type": "code",
   "execution_count": 70,
   "metadata": {
    "scrolled": false
   },
   "outputs": [
    {
     "name": "stdout",
     "output_type": "stream",
     "text": [
      "              precision    recall  f1-score   support\n",
      "\n",
      "       False       0.95      0.95      0.95     20422\n",
      "        True       0.65      0.62      0.64      2756\n",
      "\n",
      "    accuracy                           0.92     23178\n",
      "   macro avg       0.80      0.79      0.79     23178\n",
      "weighted avg       0.91      0.92      0.91     23178\n",
      "\n"
     ]
    }
   ],
   "source": [
    "# fit a simple text classifier\n",
    "\n",
    "train_comments = comments.query(\"split=='train'\")\n",
    "test_comments = comments.query(\"split=='test'\")\n",
    "\n",
    "clf = Pipeline([\n",
    "    ('vect', CountVectorizer(max_features = 10000, ngram_range = (1,2))),\n",
    "    ('tfidf', TfidfTransformer(norm = 'l2')),\n",
    "    ('clf', DecisionTreeClassifier(random_state = 123)),\n",
    "])\n",
    "clf = clf.fit(train_comments['comment'], train_comments['attack'])\n",
    "\n",
    "met = metrics.classification_report(test_comments['attack'], clf.predict(test_comments['comment']))\n",
    "print(met)"
   ]
  },
  {
   "cell_type": "code",
   "execution_count": 28,
   "metadata": {},
   "outputs": [
    {
     "name": "stdout",
     "output_type": "stream",
     "text": [
      "(0.7996659690138055, 0.7893503320858763, 0.7943751638587662, None)\n"
     ]
    }
   ],
   "source": [
    "metirc2 = precision_recall_fscore_support(test_comments['attack'], clf.predict(test_comments['comment']), average='macro')\n",
    "print(metirc2)"
   ]
  },
  {
   "cell_type": "code",
   "execution_count": 20,
   "metadata": {},
   "outputs": [
    {
     "data": {
      "text/plain": [
       "array([False])"
      ]
     },
     "execution_count": 20,
     "metadata": {},
     "output_type": "execute_result"
    }
   ],
   "source": [
    "# correctly classify nice comment\n",
    "clf.predict(['Thanks for you contribution, you did a great job!'])"
   ]
  },
  {
   "cell_type": "code",
   "execution_count": 21,
   "metadata": {},
   "outputs": [
    {
     "data": {
      "text/plain": [
       "array([ True])"
      ]
     },
     "execution_count": 21,
     "metadata": {},
     "output_type": "execute_result"
    }
   ],
   "source": [
    "# correctly classify nasty comment\n",
    "clf.predict(['People as stupid as you should not edit Wikipedia!'])"
   ]
  },
  {
   "cell_type": "markdown",
   "metadata": {},
   "source": [
    "## Over-sampling Smote"
   ]
  },
  {
   "cell_type": "code",
   "execution_count": 89,
   "metadata": {},
   "outputs": [
    {
     "name": "stdout",
     "output_type": "stream",
     "text": [
      "[[0 0 0 ... 0 0 0]\n",
      " [0 0 0 ... 0 0 0]\n",
      " [0 0 0 ... 0 0 0]\n",
      " ...\n",
      " [0 0 0 ... 0 0 0]\n",
      " [0 0 0 ... 0 0 0]\n",
      " [0 0 0 ... 0 0 0]]\n"
     ]
    }
   ],
   "source": [
    "from imblearn.over_sampling import SMOTE\n",
    "from imblearn.under_sampling import RandomUnderSampler\n",
    "from sklearn.feature_extraction.text import CountVectorizer\n",
    "\n",
    "train_comments = comments.query(\"split=='train'\")\n",
    "test_comments = comments.query(\"split=='test'\")\n",
    "\n",
    "X_train=train_comments['comment'].head(14000)\n",
    "y_train=train_comments['attack'].head(14000)\n",
    "X_test=test_comments['comment']\n",
    "y_test=test_comments['attack']\n",
    "\n",
    "vectorizer1 = CountVectorizer(max_features = 10000, ngram_range = (1,2))\n",
    "vectorizer1.fit(X_train.values.ravel())\n",
    "X_train=vectorizer.transform(X_train.values.ravel())\n",
    "X_test=vectorizer.transform(X_test.values.ravel())\n",
    "X_train=X_train.toarray()\n",
    "X_test=X_test.toarray()\n",
    "print(X_train)"
   ]
  },
  {
   "cell_type": "code",
   "execution_count": 90,
   "metadata": {},
   "outputs": [],
   "source": [
    "sm = SMOTE(random_state=2)\n",
    "X_res, y_res = sm.fit_resample(X_train, y_train)"
   ]
  },
  {
   "cell_type": "markdown",
   "metadata": {},
   "source": [
    "## DecisionTree Classifier"
   ]
  },
  {
   "cell_type": "code",
   "execution_count": 91,
   "metadata": {},
   "outputs": [
    {
     "data": {
      "text/plain": [
       "0.7906204159116403"
      ]
     },
     "execution_count": 91,
     "metadata": {},
     "output_type": "execute_result"
    }
   ],
   "source": [
    "clf = DecisionTreeClassifier(random_state = 123).fit(X_res, y_res)\n",
    "\n",
    "# Return the mean accuracy on the given test data and labels.\n",
    "clf.score(X_test, y_test)"
   ]
  },
  {
   "cell_type": "markdown",
   "metadata": {},
   "source": [
    "## GradientBoosting Classifier"
   ]
  },
  {
   "cell_type": "code",
   "execution_count": 92,
   "metadata": {},
   "outputs": [
    {
     "data": {
      "text/plain": [
       "0.7881611873328156"
      ]
     },
     "execution_count": 92,
     "metadata": {},
     "output_type": "execute_result"
    }
   ],
   "source": [
    "from sklearn.datasets import make_hastie_10_2\n",
    "from sklearn.ensemble import GradientBoostingClassifier\n",
    "clf = GradientBoostingClassifier(n_estimators=100, learning_rate=1.0,\n",
    "                                 max_depth=1, random_state=0).fit(X_res, y_res)\n",
    "# Return the mean accuracy on the given test data and labels.\n",
    "clf.score(X_test, y_test)"
   ]
  },
  {
   "cell_type": "markdown",
   "metadata": {},
   "source": [
    "## LogisticRegression Classifier"
   ]
  },
  {
   "cell_type": "code",
   "execution_count": 93,
   "metadata": {},
   "outputs": [
    {
     "name": "stderr",
     "output_type": "stream",
     "text": [
      "/usr/local/lib/python3.9/site-packages/sklearn/linear_model/_logistic.py:814: ConvergenceWarning: lbfgs failed to converge (status=1):\n",
      "STOP: TOTAL NO. of ITERATIONS REACHED LIMIT.\n",
      "\n",
      "Increase the number of iterations (max_iter) or scale the data as shown in:\n",
      "    https://scikit-learn.org/stable/modules/preprocessing.html\n",
      "Please also refer to the documentation for alternative solver options:\n",
      "    https://scikit-learn.org/stable/modules/linear_model.html#logistic-regression\n",
      "  n_iter_i = _check_optimize_result(\n"
     ]
    },
    {
     "data": {
      "text/plain": [
       "0.8478729830011218"
      ]
     },
     "execution_count": 93,
     "metadata": {},
     "output_type": "execute_result"
    }
   ],
   "source": [
    "from sklearn.datasets import load_iris\n",
    "from sklearn.linear_model import LogisticRegression\n",
    "\n",
    "clf = LogisticRegression(random_state=0).fit(X_res, y_res)\n",
    "# Return the mean accuracy on the given test data and labels.\n",
    "clf.score(X_test, y_test)"
   ]
  },
  {
   "cell_type": "markdown",
   "metadata": {},
   "source": [
    "## MultinomialNB Classifier"
   ]
  },
  {
   "cell_type": "code",
   "execution_count": 96,
   "metadata": {},
   "outputs": [
    {
     "data": {
      "text/plain": [
       "0.9163430839589266"
      ]
     },
     "execution_count": 96,
     "metadata": {},
     "output_type": "execute_result"
    }
   ],
   "source": [
    "from sklearn.naive_bayes import MultinomialNB\n",
    "\n",
    "clf = MultinomialNB().fit(X_res, y_res)\n",
    "# Return the mean accuracy on the given test data and labels.\n",
    "clf.score(X_test, y_test)"
   ]
  },
  {
   "cell_type": "markdown",
   "metadata": {},
   "source": [
    "## SMV Classifier"
   ]
  },
  {
   "cell_type": "code",
   "execution_count": null,
   "metadata": {},
   "outputs": [],
   "source": [
    "from sklearn.svm import SVC\n",
    "\n",
    "clf = SVC(kernel='linear', gamma='auto').fit(X_res, y_res)\n",
    "# Return the mean accuracy on the given test data and labels.\n",
    "clf.score(X_test, y_test)"
   ]
  },
  {
   "cell_type": "markdown",
   "metadata": {},
   "source": [
    "## Feature Union"
   ]
  },
  {
   "cell_type": "code",
   "execution_count": 22,
   "metadata": {},
   "outputs": [],
   "source": [
    "from sklearn.base import BaseEstimator, TransformerMixin\n",
    "from sklearn.datasets import fetch_20newsgroups\n",
    "from sklearn.decomposition import TruncatedSVD\n",
    "from sklearn.feature_extraction import DictVectorizer\n",
    "from sklearn.feature_extraction.text import TfidfVectorizer\n",
    "from sklearn.metrics import classification_report\n",
    "from sklearn.pipeline import FeatureUnion\n",
    "from sklearn.pipeline import Pipeline\n",
    "from sklearn.svm import SVC\n",
    "\n",
    "from sklearn.pipeline import FeatureUnion\n",
    "from sklearn.decomposition import PCA, TruncatedSVD\n",
    "union = FeatureUnion([(\"pca\", PCA(n_components=1)),\n",
    "                       (\"svd\", TruncatedSVD(n_components=2)), \n",
    "                      ('vect', CountVectorizer(max_features = 10000, ngram_range = (1,2))),\n",
    "                      ('tfidf', TfidfTransformer(norm = 'l2'))])\n",
    "\n",
    "class ItemSelector(BaseEstimator, TransformerMixin):\n",
    "    \"\"\"For data grouped by feature, select subset of data at a provided key.\n",
    "\n",
    "    The data is expected to be stored in a 2D data structure, where the first\n",
    "    index is over features and the second is over samples.  i.e.\n",
    "\n",
    "    >> len(data[key]) == n_samples\n",
    "\n",
    "    Please note that this is the opposite convention to scikit-learn feature\n",
    "    matrixes (where the first index corresponds to sample).\n",
    "\n",
    "    ItemSelector only requires that the collection implement getitem\n",
    "    (data[key]).  Examples include: a dict of lists, 2D numpy array, Pandas\n",
    "    DataFrame, numpy record array, etc.\n",
    "\n",
    "    >> data = {'a': [1, 5, 2, 5, 2, 8],\n",
    "               'b': [9, 4, 1, 4, 1, 3]}\n",
    "    >> ds = ItemSelector(key='a')\n",
    "    >> data['a'] == ds.transform(data)\n",
    "\n",
    "    ItemSelector is not designed to handle data grouped by sample.  (e.g. a\n",
    "    list of dicts).  If your data is structured this way, consider a\n",
    "    transformer along the lines of `sklearn.feature_extraction.DictVectorizer`.\n",
    "\n",
    "    Parameters\n",
    "    ----------\n",
    "    key : hashable, required\n",
    "        The key corresponding to the desired value in a mappable.\n",
    "    \"\"\"\n",
    "    def __init__(self, key):\n",
    "        self.key = key\n",
    "\n",
    "    def fit(self, x, y=None):\n",
    "        return self\n",
    "\n",
    "    def transform(self, data_dict):\n",
    "        return data_dict[self.key]"
   ]
  },
  {
   "cell_type": "code",
   "execution_count": 24,
   "metadata": {},
   "outputs": [],
   "source": [
    "class TextStats(BaseEstimator, TransformerMixin):\n",
    "    \"\"\"Extract features from each document for DictVectorizer\"\"\"\n",
    "\n",
    "    def fit(self, x, y=None):\n",
    "        return self\n",
    "\n",
    "    def transform(self, posts):\n",
    "        return [{'length': len(text),\n",
    "                 'num_sentences': text.count('.')}\n",
    "                for text in posts]"
   ]
  },
  {
   "cell_type": "code",
   "execution_count": 25,
   "metadata": {},
   "outputs": [
    {
     "ename": "AttributeError",
     "evalue": "'int' object has no attribute 'lower'",
     "output_type": "error",
     "traceback": [
      "\u001b[0;31m---------------------------------------------------------------------------\u001b[0m",
      "\u001b[0;31mAttributeError\u001b[0m                            Traceback (most recent call last)",
      "\u001b[0;32m/var/folders/zd/_qrx7mbs5b99x8gl0m_83tpr0000gn/T/ipykernel_1045/519853465.py\u001b[0m in \u001b[0;36m<module>\u001b[0;34m\u001b[0m\n\u001b[1;32m     41\u001b[0m     \u001b[0;34m(\u001b[0m\u001b[0;34m'svc'\u001b[0m\u001b[0;34m,\u001b[0m \u001b[0mSVC\u001b[0m\u001b[0;34m(\u001b[0m\u001b[0mkernel\u001b[0m\u001b[0;34m=\u001b[0m\u001b[0;34m'linear'\u001b[0m\u001b[0;34m)\u001b[0m\u001b[0;34m)\u001b[0m\u001b[0;34m,\u001b[0m\u001b[0;34m\u001b[0m\u001b[0;34m\u001b[0m\u001b[0m\n\u001b[1;32m     42\u001b[0m ])\n\u001b[0;32m---> 43\u001b[0;31m \u001b[0mpipeline\u001b[0m \u001b[0;34m=\u001b[0m \u001b[0mpipeline\u001b[0m\u001b[0;34m.\u001b[0m\u001b[0mfit\u001b[0m\u001b[0;34m(\u001b[0m\u001b[0mtrain_comments\u001b[0m\u001b[0;34m,\u001b[0m \u001b[0mtrain_comments\u001b[0m\u001b[0;34m[\u001b[0m\u001b[0;34m'attack'\u001b[0m\u001b[0;34m]\u001b[0m\u001b[0;34m)\u001b[0m\u001b[0;34m\u001b[0m\u001b[0;34m\u001b[0m\u001b[0m\n\u001b[0m\u001b[1;32m     44\u001b[0m \u001b[0mmet\u001b[0m \u001b[0;34m=\u001b[0m \u001b[0mmetrics\u001b[0m\u001b[0;34m.\u001b[0m\u001b[0mclassification_report\u001b[0m\u001b[0;34m(\u001b[0m\u001b[0mtest_comments\u001b[0m\u001b[0;34m[\u001b[0m\u001b[0;34m'attack'\u001b[0m\u001b[0;34m]\u001b[0m\u001b[0;34m,\u001b[0m \u001b[0mpipeline\u001b[0m\u001b[0;34m.\u001b[0m\u001b[0mpredict\u001b[0m\u001b[0;34m(\u001b[0m\u001b[0mtest_comments\u001b[0m\u001b[0;34m)\u001b[0m\u001b[0;34m)\u001b[0m\u001b[0;34m\u001b[0m\u001b[0;34m\u001b[0m\u001b[0m\n\u001b[1;32m     45\u001b[0m \u001b[0mprint\u001b[0m\u001b[0;34m(\u001b[0m\u001b[0mmet\u001b[0m\u001b[0;34m)\u001b[0m\u001b[0;34m\u001b[0m\u001b[0;34m\u001b[0m\u001b[0m\n",
      "\u001b[0;32m/usr/local/lib/python3.9/site-packages/sklearn/pipeline.py\u001b[0m in \u001b[0;36mfit\u001b[0;34m(self, X, y, **fit_params)\u001b[0m\n\u001b[1;32m    388\u001b[0m         \"\"\"\n\u001b[1;32m    389\u001b[0m         \u001b[0mfit_params_steps\u001b[0m \u001b[0;34m=\u001b[0m \u001b[0mself\u001b[0m\u001b[0;34m.\u001b[0m\u001b[0m_check_fit_params\u001b[0m\u001b[0;34m(\u001b[0m\u001b[0;34m**\u001b[0m\u001b[0mfit_params\u001b[0m\u001b[0;34m)\u001b[0m\u001b[0;34m\u001b[0m\u001b[0;34m\u001b[0m\u001b[0m\n\u001b[0;32m--> 390\u001b[0;31m         \u001b[0mXt\u001b[0m \u001b[0;34m=\u001b[0m \u001b[0mself\u001b[0m\u001b[0;34m.\u001b[0m\u001b[0m_fit\u001b[0m\u001b[0;34m(\u001b[0m\u001b[0mX\u001b[0m\u001b[0;34m,\u001b[0m \u001b[0my\u001b[0m\u001b[0;34m,\u001b[0m \u001b[0;34m**\u001b[0m\u001b[0mfit_params_steps\u001b[0m\u001b[0;34m)\u001b[0m\u001b[0;34m\u001b[0m\u001b[0;34m\u001b[0m\u001b[0m\n\u001b[0m\u001b[1;32m    391\u001b[0m         \u001b[0;32mwith\u001b[0m \u001b[0m_print_elapsed_time\u001b[0m\u001b[0;34m(\u001b[0m\u001b[0;34m\"Pipeline\"\u001b[0m\u001b[0;34m,\u001b[0m \u001b[0mself\u001b[0m\u001b[0;34m.\u001b[0m\u001b[0m_log_message\u001b[0m\u001b[0;34m(\u001b[0m\u001b[0mlen\u001b[0m\u001b[0;34m(\u001b[0m\u001b[0mself\u001b[0m\u001b[0;34m.\u001b[0m\u001b[0msteps\u001b[0m\u001b[0;34m)\u001b[0m \u001b[0;34m-\u001b[0m \u001b[0;36m1\u001b[0m\u001b[0;34m)\u001b[0m\u001b[0;34m)\u001b[0m\u001b[0;34m:\u001b[0m\u001b[0;34m\u001b[0m\u001b[0;34m\u001b[0m\u001b[0m\n\u001b[1;32m    392\u001b[0m             \u001b[0;32mif\u001b[0m \u001b[0mself\u001b[0m\u001b[0;34m.\u001b[0m\u001b[0m_final_estimator\u001b[0m \u001b[0;34m!=\u001b[0m \u001b[0;34m\"passthrough\"\u001b[0m\u001b[0;34m:\u001b[0m\u001b[0;34m\u001b[0m\u001b[0;34m\u001b[0m\u001b[0m\n",
      "\u001b[0;32m/usr/local/lib/python3.9/site-packages/sklearn/pipeline.py\u001b[0m in \u001b[0;36m_fit\u001b[0;34m(self, X, y, **fit_params_steps)\u001b[0m\n\u001b[1;32m    346\u001b[0m                 \u001b[0mcloned_transformer\u001b[0m \u001b[0;34m=\u001b[0m \u001b[0mclone\u001b[0m\u001b[0;34m(\u001b[0m\u001b[0mtransformer\u001b[0m\u001b[0;34m)\u001b[0m\u001b[0;34m\u001b[0m\u001b[0;34m\u001b[0m\u001b[0m\n\u001b[1;32m    347\u001b[0m             \u001b[0;31m# Fit or load from cache the current transformer\u001b[0m\u001b[0;34m\u001b[0m\u001b[0;34m\u001b[0m\u001b[0;34m\u001b[0m\u001b[0m\n\u001b[0;32m--> 348\u001b[0;31m             X, fitted_transformer = fit_transform_one_cached(\n\u001b[0m\u001b[1;32m    349\u001b[0m                 \u001b[0mcloned_transformer\u001b[0m\u001b[0;34m,\u001b[0m\u001b[0;34m\u001b[0m\u001b[0;34m\u001b[0m\u001b[0m\n\u001b[1;32m    350\u001b[0m                 \u001b[0mX\u001b[0m\u001b[0;34m,\u001b[0m\u001b[0;34m\u001b[0m\u001b[0;34m\u001b[0m\u001b[0m\n",
      "\u001b[0;32m/usr/local/lib/python3.9/site-packages/joblib/memory.py\u001b[0m in \u001b[0;36m__call__\u001b[0;34m(self, *args, **kwargs)\u001b[0m\n\u001b[1;32m    347\u001b[0m \u001b[0;34m\u001b[0m\u001b[0m\n\u001b[1;32m    348\u001b[0m     \u001b[0;32mdef\u001b[0m \u001b[0m__call__\u001b[0m\u001b[0;34m(\u001b[0m\u001b[0mself\u001b[0m\u001b[0;34m,\u001b[0m \u001b[0;34m*\u001b[0m\u001b[0margs\u001b[0m\u001b[0;34m,\u001b[0m \u001b[0;34m**\u001b[0m\u001b[0mkwargs\u001b[0m\u001b[0;34m)\u001b[0m\u001b[0;34m:\u001b[0m\u001b[0;34m\u001b[0m\u001b[0;34m\u001b[0m\u001b[0m\n\u001b[0;32m--> 349\u001b[0;31m         \u001b[0;32mreturn\u001b[0m \u001b[0mself\u001b[0m\u001b[0;34m.\u001b[0m\u001b[0mfunc\u001b[0m\u001b[0;34m(\u001b[0m\u001b[0;34m*\u001b[0m\u001b[0margs\u001b[0m\u001b[0;34m,\u001b[0m \u001b[0;34m**\u001b[0m\u001b[0mkwargs\u001b[0m\u001b[0;34m)\u001b[0m\u001b[0;34m\u001b[0m\u001b[0;34m\u001b[0m\u001b[0m\n\u001b[0m\u001b[1;32m    350\u001b[0m \u001b[0;34m\u001b[0m\u001b[0m\n\u001b[1;32m    351\u001b[0m     \u001b[0;32mdef\u001b[0m \u001b[0mcall_and_shelve\u001b[0m\u001b[0;34m(\u001b[0m\u001b[0mself\u001b[0m\u001b[0;34m,\u001b[0m \u001b[0;34m*\u001b[0m\u001b[0margs\u001b[0m\u001b[0;34m,\u001b[0m \u001b[0;34m**\u001b[0m\u001b[0mkwargs\u001b[0m\u001b[0;34m)\u001b[0m\u001b[0;34m:\u001b[0m\u001b[0;34m\u001b[0m\u001b[0;34m\u001b[0m\u001b[0m\n",
      "\u001b[0;32m/usr/local/lib/python3.9/site-packages/sklearn/pipeline.py\u001b[0m in \u001b[0;36m_fit_transform_one\u001b[0;34m(transformer, X, y, weight, message_clsname, message, **fit_params)\u001b[0m\n\u001b[1;32m    891\u001b[0m     \u001b[0;32mwith\u001b[0m \u001b[0m_print_elapsed_time\u001b[0m\u001b[0;34m(\u001b[0m\u001b[0mmessage_clsname\u001b[0m\u001b[0;34m,\u001b[0m \u001b[0mmessage\u001b[0m\u001b[0;34m)\u001b[0m\u001b[0;34m:\u001b[0m\u001b[0;34m\u001b[0m\u001b[0;34m\u001b[0m\u001b[0m\n\u001b[1;32m    892\u001b[0m         \u001b[0;32mif\u001b[0m \u001b[0mhasattr\u001b[0m\u001b[0;34m(\u001b[0m\u001b[0mtransformer\u001b[0m\u001b[0;34m,\u001b[0m \u001b[0;34m\"fit_transform\"\u001b[0m\u001b[0;34m)\u001b[0m\u001b[0;34m:\u001b[0m\u001b[0;34m\u001b[0m\u001b[0;34m\u001b[0m\u001b[0m\n\u001b[0;32m--> 893\u001b[0;31m             \u001b[0mres\u001b[0m \u001b[0;34m=\u001b[0m \u001b[0mtransformer\u001b[0m\u001b[0;34m.\u001b[0m\u001b[0mfit_transform\u001b[0m\u001b[0;34m(\u001b[0m\u001b[0mX\u001b[0m\u001b[0;34m,\u001b[0m \u001b[0my\u001b[0m\u001b[0;34m,\u001b[0m \u001b[0;34m**\u001b[0m\u001b[0mfit_params\u001b[0m\u001b[0;34m)\u001b[0m\u001b[0;34m\u001b[0m\u001b[0;34m\u001b[0m\u001b[0m\n\u001b[0m\u001b[1;32m    894\u001b[0m         \u001b[0;32melse\u001b[0m\u001b[0;34m:\u001b[0m\u001b[0;34m\u001b[0m\u001b[0;34m\u001b[0m\u001b[0m\n\u001b[1;32m    895\u001b[0m             \u001b[0mres\u001b[0m \u001b[0;34m=\u001b[0m \u001b[0mtransformer\u001b[0m\u001b[0;34m.\u001b[0m\u001b[0mfit\u001b[0m\u001b[0;34m(\u001b[0m\u001b[0mX\u001b[0m\u001b[0;34m,\u001b[0m \u001b[0my\u001b[0m\u001b[0;34m,\u001b[0m \u001b[0;34m**\u001b[0m\u001b[0mfit_params\u001b[0m\u001b[0;34m)\u001b[0m\u001b[0;34m.\u001b[0m\u001b[0mtransform\u001b[0m\u001b[0;34m(\u001b[0m\u001b[0mX\u001b[0m\u001b[0;34m)\u001b[0m\u001b[0;34m\u001b[0m\u001b[0;34m\u001b[0m\u001b[0m\n",
      "\u001b[0;32m/usr/local/lib/python3.9/site-packages/sklearn/pipeline.py\u001b[0m in \u001b[0;36mfit_transform\u001b[0;34m(self, X, y, **fit_params)\u001b[0m\n\u001b[1;32m   1170\u001b[0m             \u001b[0msum\u001b[0m \u001b[0mof\u001b[0m\u001b[0;31m \u001b[0m\u001b[0;31m`\u001b[0m\u001b[0mn_components\u001b[0m\u001b[0;31m`\u001b[0m \u001b[0;34m(\u001b[0m\u001b[0moutput\u001b[0m \u001b[0mdimension\u001b[0m\u001b[0;34m)\u001b[0m \u001b[0mover\u001b[0m \u001b[0mtransformers\u001b[0m\u001b[0;34m.\u001b[0m\u001b[0;34m\u001b[0m\u001b[0;34m\u001b[0m\u001b[0m\n\u001b[1;32m   1171\u001b[0m         \"\"\"\n\u001b[0;32m-> 1172\u001b[0;31m         \u001b[0mresults\u001b[0m \u001b[0;34m=\u001b[0m \u001b[0mself\u001b[0m\u001b[0;34m.\u001b[0m\u001b[0m_parallel_func\u001b[0m\u001b[0;34m(\u001b[0m\u001b[0mX\u001b[0m\u001b[0;34m,\u001b[0m \u001b[0my\u001b[0m\u001b[0;34m,\u001b[0m \u001b[0mfit_params\u001b[0m\u001b[0;34m,\u001b[0m \u001b[0m_fit_transform_one\u001b[0m\u001b[0;34m)\u001b[0m\u001b[0;34m\u001b[0m\u001b[0;34m\u001b[0m\u001b[0m\n\u001b[0m\u001b[1;32m   1173\u001b[0m         \u001b[0;32mif\u001b[0m \u001b[0;32mnot\u001b[0m \u001b[0mresults\u001b[0m\u001b[0;34m:\u001b[0m\u001b[0;34m\u001b[0m\u001b[0;34m\u001b[0m\u001b[0m\n\u001b[1;32m   1174\u001b[0m             \u001b[0;31m# All transformers are None\u001b[0m\u001b[0;34m\u001b[0m\u001b[0;34m\u001b[0m\u001b[0;34m\u001b[0m\u001b[0m\n",
      "\u001b[0;32m/usr/local/lib/python3.9/site-packages/sklearn/pipeline.py\u001b[0m in \u001b[0;36m_parallel_func\u001b[0;34m(self, X, y, fit_params, func)\u001b[0m\n\u001b[1;32m   1192\u001b[0m         \u001b[0mtransformers\u001b[0m \u001b[0;34m=\u001b[0m \u001b[0mlist\u001b[0m\u001b[0;34m(\u001b[0m\u001b[0mself\u001b[0m\u001b[0;34m.\u001b[0m\u001b[0m_iter\u001b[0m\u001b[0;34m(\u001b[0m\u001b[0;34m)\u001b[0m\u001b[0;34m)\u001b[0m\u001b[0;34m\u001b[0m\u001b[0;34m\u001b[0m\u001b[0m\n\u001b[1;32m   1193\u001b[0m \u001b[0;34m\u001b[0m\u001b[0m\n\u001b[0;32m-> 1194\u001b[0;31m         return Parallel(n_jobs=self.n_jobs)(\n\u001b[0m\u001b[1;32m   1195\u001b[0m             delayed(func)(\n\u001b[1;32m   1196\u001b[0m                 \u001b[0mtransformer\u001b[0m\u001b[0;34m,\u001b[0m\u001b[0;34m\u001b[0m\u001b[0;34m\u001b[0m\u001b[0m\n",
      "\u001b[0;32m/usr/local/lib/python3.9/site-packages/joblib/parallel.py\u001b[0m in \u001b[0;36m__call__\u001b[0;34m(self, iterable)\u001b[0m\n\u001b[1;32m   1041\u001b[0m             \u001b[0;31m# remaining jobs.\u001b[0m\u001b[0;34m\u001b[0m\u001b[0;34m\u001b[0m\u001b[0;34m\u001b[0m\u001b[0m\n\u001b[1;32m   1042\u001b[0m             \u001b[0mself\u001b[0m\u001b[0;34m.\u001b[0m\u001b[0m_iterating\u001b[0m \u001b[0;34m=\u001b[0m \u001b[0;32mFalse\u001b[0m\u001b[0;34m\u001b[0m\u001b[0;34m\u001b[0m\u001b[0m\n\u001b[0;32m-> 1043\u001b[0;31m             \u001b[0;32mif\u001b[0m \u001b[0mself\u001b[0m\u001b[0;34m.\u001b[0m\u001b[0mdispatch_one_batch\u001b[0m\u001b[0;34m(\u001b[0m\u001b[0miterator\u001b[0m\u001b[0;34m)\u001b[0m\u001b[0;34m:\u001b[0m\u001b[0;34m\u001b[0m\u001b[0;34m\u001b[0m\u001b[0m\n\u001b[0m\u001b[1;32m   1044\u001b[0m                 \u001b[0mself\u001b[0m\u001b[0;34m.\u001b[0m\u001b[0m_iterating\u001b[0m \u001b[0;34m=\u001b[0m \u001b[0mself\u001b[0m\u001b[0;34m.\u001b[0m\u001b[0m_original_iterator\u001b[0m \u001b[0;32mis\u001b[0m \u001b[0;32mnot\u001b[0m \u001b[0;32mNone\u001b[0m\u001b[0;34m\u001b[0m\u001b[0;34m\u001b[0m\u001b[0m\n\u001b[1;32m   1045\u001b[0m \u001b[0;34m\u001b[0m\u001b[0m\n",
      "\u001b[0;32m/usr/local/lib/python3.9/site-packages/joblib/parallel.py\u001b[0m in \u001b[0;36mdispatch_one_batch\u001b[0;34m(self, iterator)\u001b[0m\n\u001b[1;32m    859\u001b[0m                 \u001b[0;32mreturn\u001b[0m \u001b[0;32mFalse\u001b[0m\u001b[0;34m\u001b[0m\u001b[0;34m\u001b[0m\u001b[0m\n\u001b[1;32m    860\u001b[0m             \u001b[0;32melse\u001b[0m\u001b[0;34m:\u001b[0m\u001b[0;34m\u001b[0m\u001b[0;34m\u001b[0m\u001b[0m\n\u001b[0;32m--> 861\u001b[0;31m                 \u001b[0mself\u001b[0m\u001b[0;34m.\u001b[0m\u001b[0m_dispatch\u001b[0m\u001b[0;34m(\u001b[0m\u001b[0mtasks\u001b[0m\u001b[0;34m)\u001b[0m\u001b[0;34m\u001b[0m\u001b[0;34m\u001b[0m\u001b[0m\n\u001b[0m\u001b[1;32m    862\u001b[0m                 \u001b[0;32mreturn\u001b[0m \u001b[0;32mTrue\u001b[0m\u001b[0;34m\u001b[0m\u001b[0;34m\u001b[0m\u001b[0m\n\u001b[1;32m    863\u001b[0m \u001b[0;34m\u001b[0m\u001b[0m\n",
      "\u001b[0;32m/usr/local/lib/python3.9/site-packages/joblib/parallel.py\u001b[0m in \u001b[0;36m_dispatch\u001b[0;34m(self, batch)\u001b[0m\n\u001b[1;32m    777\u001b[0m         \u001b[0;32mwith\u001b[0m \u001b[0mself\u001b[0m\u001b[0;34m.\u001b[0m\u001b[0m_lock\u001b[0m\u001b[0;34m:\u001b[0m\u001b[0;34m\u001b[0m\u001b[0;34m\u001b[0m\u001b[0m\n\u001b[1;32m    778\u001b[0m             \u001b[0mjob_idx\u001b[0m \u001b[0;34m=\u001b[0m \u001b[0mlen\u001b[0m\u001b[0;34m(\u001b[0m\u001b[0mself\u001b[0m\u001b[0;34m.\u001b[0m\u001b[0m_jobs\u001b[0m\u001b[0;34m)\u001b[0m\u001b[0;34m\u001b[0m\u001b[0;34m\u001b[0m\u001b[0m\n\u001b[0;32m--> 779\u001b[0;31m             \u001b[0mjob\u001b[0m \u001b[0;34m=\u001b[0m \u001b[0mself\u001b[0m\u001b[0;34m.\u001b[0m\u001b[0m_backend\u001b[0m\u001b[0;34m.\u001b[0m\u001b[0mapply_async\u001b[0m\u001b[0;34m(\u001b[0m\u001b[0mbatch\u001b[0m\u001b[0;34m,\u001b[0m \u001b[0mcallback\u001b[0m\u001b[0;34m=\u001b[0m\u001b[0mcb\u001b[0m\u001b[0;34m)\u001b[0m\u001b[0;34m\u001b[0m\u001b[0;34m\u001b[0m\u001b[0m\n\u001b[0m\u001b[1;32m    780\u001b[0m             \u001b[0;31m# A job can complete so quickly than its callback is\u001b[0m\u001b[0;34m\u001b[0m\u001b[0;34m\u001b[0m\u001b[0;34m\u001b[0m\u001b[0m\n\u001b[1;32m    781\u001b[0m             \u001b[0;31m# called before we get here, causing self._jobs to\u001b[0m\u001b[0;34m\u001b[0m\u001b[0;34m\u001b[0m\u001b[0;34m\u001b[0m\u001b[0m\n",
      "\u001b[0;32m/usr/local/lib/python3.9/site-packages/joblib/_parallel_backends.py\u001b[0m in \u001b[0;36mapply_async\u001b[0;34m(self, func, callback)\u001b[0m\n\u001b[1;32m    206\u001b[0m     \u001b[0;32mdef\u001b[0m \u001b[0mapply_async\u001b[0m\u001b[0;34m(\u001b[0m\u001b[0mself\u001b[0m\u001b[0;34m,\u001b[0m \u001b[0mfunc\u001b[0m\u001b[0;34m,\u001b[0m \u001b[0mcallback\u001b[0m\u001b[0;34m=\u001b[0m\u001b[0;32mNone\u001b[0m\u001b[0;34m)\u001b[0m\u001b[0;34m:\u001b[0m\u001b[0;34m\u001b[0m\u001b[0;34m\u001b[0m\u001b[0m\n\u001b[1;32m    207\u001b[0m         \u001b[0;34m\"\"\"Schedule a func to be run\"\"\"\u001b[0m\u001b[0;34m\u001b[0m\u001b[0;34m\u001b[0m\u001b[0m\n\u001b[0;32m--> 208\u001b[0;31m         \u001b[0mresult\u001b[0m \u001b[0;34m=\u001b[0m \u001b[0mImmediateResult\u001b[0m\u001b[0;34m(\u001b[0m\u001b[0mfunc\u001b[0m\u001b[0;34m)\u001b[0m\u001b[0;34m\u001b[0m\u001b[0;34m\u001b[0m\u001b[0m\n\u001b[0m\u001b[1;32m    209\u001b[0m         \u001b[0;32mif\u001b[0m \u001b[0mcallback\u001b[0m\u001b[0;34m:\u001b[0m\u001b[0;34m\u001b[0m\u001b[0;34m\u001b[0m\u001b[0m\n\u001b[1;32m    210\u001b[0m             \u001b[0mcallback\u001b[0m\u001b[0;34m(\u001b[0m\u001b[0mresult\u001b[0m\u001b[0;34m)\u001b[0m\u001b[0;34m\u001b[0m\u001b[0;34m\u001b[0m\u001b[0m\n",
      "\u001b[0;32m/usr/local/lib/python3.9/site-packages/joblib/_parallel_backends.py\u001b[0m in \u001b[0;36m__init__\u001b[0;34m(self, batch)\u001b[0m\n\u001b[1;32m    570\u001b[0m         \u001b[0;31m# Don't delay the application, to avoid keeping the input\u001b[0m\u001b[0;34m\u001b[0m\u001b[0;34m\u001b[0m\u001b[0;34m\u001b[0m\u001b[0m\n\u001b[1;32m    571\u001b[0m         \u001b[0;31m# arguments in memory\u001b[0m\u001b[0;34m\u001b[0m\u001b[0;34m\u001b[0m\u001b[0;34m\u001b[0m\u001b[0m\n\u001b[0;32m--> 572\u001b[0;31m         \u001b[0mself\u001b[0m\u001b[0;34m.\u001b[0m\u001b[0mresults\u001b[0m \u001b[0;34m=\u001b[0m \u001b[0mbatch\u001b[0m\u001b[0;34m(\u001b[0m\u001b[0;34m)\u001b[0m\u001b[0;34m\u001b[0m\u001b[0;34m\u001b[0m\u001b[0m\n\u001b[0m\u001b[1;32m    573\u001b[0m \u001b[0;34m\u001b[0m\u001b[0m\n\u001b[1;32m    574\u001b[0m     \u001b[0;32mdef\u001b[0m \u001b[0mget\u001b[0m\u001b[0;34m(\u001b[0m\u001b[0mself\u001b[0m\u001b[0;34m)\u001b[0m\u001b[0;34m:\u001b[0m\u001b[0;34m\u001b[0m\u001b[0;34m\u001b[0m\u001b[0m\n",
      "\u001b[0;32m/usr/local/lib/python3.9/site-packages/joblib/parallel.py\u001b[0m in \u001b[0;36m__call__\u001b[0;34m(self)\u001b[0m\n\u001b[1;32m    260\u001b[0m         \u001b[0;31m# change the default number of processes to -1\u001b[0m\u001b[0;34m\u001b[0m\u001b[0;34m\u001b[0m\u001b[0;34m\u001b[0m\u001b[0m\n\u001b[1;32m    261\u001b[0m         \u001b[0;32mwith\u001b[0m \u001b[0mparallel_backend\u001b[0m\u001b[0;34m(\u001b[0m\u001b[0mself\u001b[0m\u001b[0;34m.\u001b[0m\u001b[0m_backend\u001b[0m\u001b[0;34m,\u001b[0m \u001b[0mn_jobs\u001b[0m\u001b[0;34m=\u001b[0m\u001b[0mself\u001b[0m\u001b[0;34m.\u001b[0m\u001b[0m_n_jobs\u001b[0m\u001b[0;34m)\u001b[0m\u001b[0;34m:\u001b[0m\u001b[0;34m\u001b[0m\u001b[0;34m\u001b[0m\u001b[0m\n\u001b[0;32m--> 262\u001b[0;31m             return [func(*args, **kwargs)\n\u001b[0m\u001b[1;32m    263\u001b[0m                     for func, args, kwargs in self.items]\n\u001b[1;32m    264\u001b[0m \u001b[0;34m\u001b[0m\u001b[0m\n",
      "\u001b[0;32m/usr/local/lib/python3.9/site-packages/joblib/parallel.py\u001b[0m in \u001b[0;36m<listcomp>\u001b[0;34m(.0)\u001b[0m\n\u001b[1;32m    260\u001b[0m         \u001b[0;31m# change the default number of processes to -1\u001b[0m\u001b[0;34m\u001b[0m\u001b[0;34m\u001b[0m\u001b[0;34m\u001b[0m\u001b[0m\n\u001b[1;32m    261\u001b[0m         \u001b[0;32mwith\u001b[0m \u001b[0mparallel_backend\u001b[0m\u001b[0;34m(\u001b[0m\u001b[0mself\u001b[0m\u001b[0;34m.\u001b[0m\u001b[0m_backend\u001b[0m\u001b[0;34m,\u001b[0m \u001b[0mn_jobs\u001b[0m\u001b[0;34m=\u001b[0m\u001b[0mself\u001b[0m\u001b[0;34m.\u001b[0m\u001b[0m_n_jobs\u001b[0m\u001b[0;34m)\u001b[0m\u001b[0;34m:\u001b[0m\u001b[0;34m\u001b[0m\u001b[0;34m\u001b[0m\u001b[0m\n\u001b[0;32m--> 262\u001b[0;31m             return [func(*args, **kwargs)\n\u001b[0m\u001b[1;32m    263\u001b[0m                     for func, args, kwargs in self.items]\n\u001b[1;32m    264\u001b[0m \u001b[0;34m\u001b[0m\u001b[0m\n",
      "\u001b[0;32m/usr/local/lib/python3.9/site-packages/sklearn/utils/fixes.py\u001b[0m in \u001b[0;36m__call__\u001b[0;34m(self, *args, **kwargs)\u001b[0m\n\u001b[1;32m    209\u001b[0m     \u001b[0;32mdef\u001b[0m \u001b[0m__call__\u001b[0m\u001b[0;34m(\u001b[0m\u001b[0mself\u001b[0m\u001b[0;34m,\u001b[0m \u001b[0;34m*\u001b[0m\u001b[0margs\u001b[0m\u001b[0;34m,\u001b[0m \u001b[0;34m**\u001b[0m\u001b[0mkwargs\u001b[0m\u001b[0;34m)\u001b[0m\u001b[0;34m:\u001b[0m\u001b[0;34m\u001b[0m\u001b[0;34m\u001b[0m\u001b[0m\n\u001b[1;32m    210\u001b[0m         \u001b[0;32mwith\u001b[0m \u001b[0mconfig_context\u001b[0m\u001b[0;34m(\u001b[0m\u001b[0;34m**\u001b[0m\u001b[0mself\u001b[0m\u001b[0;34m.\u001b[0m\u001b[0mconfig\u001b[0m\u001b[0;34m)\u001b[0m\u001b[0;34m:\u001b[0m\u001b[0;34m\u001b[0m\u001b[0;34m\u001b[0m\u001b[0m\n\u001b[0;32m--> 211\u001b[0;31m             \u001b[0;32mreturn\u001b[0m \u001b[0mself\u001b[0m\u001b[0;34m.\u001b[0m\u001b[0mfunction\u001b[0m\u001b[0;34m(\u001b[0m\u001b[0;34m*\u001b[0m\u001b[0margs\u001b[0m\u001b[0;34m,\u001b[0m \u001b[0;34m**\u001b[0m\u001b[0mkwargs\u001b[0m\u001b[0;34m)\u001b[0m\u001b[0;34m\u001b[0m\u001b[0;34m\u001b[0m\u001b[0m\n\u001b[0m\u001b[1;32m    212\u001b[0m \u001b[0;34m\u001b[0m\u001b[0m\n\u001b[1;32m    213\u001b[0m \u001b[0;34m\u001b[0m\u001b[0m\n",
      "\u001b[0;32m/usr/local/lib/python3.9/site-packages/sklearn/pipeline.py\u001b[0m in \u001b[0;36m_fit_transform_one\u001b[0;34m(transformer, X, y, weight, message_clsname, message, **fit_params)\u001b[0m\n\u001b[1;32m    891\u001b[0m     \u001b[0;32mwith\u001b[0m \u001b[0m_print_elapsed_time\u001b[0m\u001b[0;34m(\u001b[0m\u001b[0mmessage_clsname\u001b[0m\u001b[0;34m,\u001b[0m \u001b[0mmessage\u001b[0m\u001b[0;34m)\u001b[0m\u001b[0;34m:\u001b[0m\u001b[0;34m\u001b[0m\u001b[0;34m\u001b[0m\u001b[0m\n\u001b[1;32m    892\u001b[0m         \u001b[0;32mif\u001b[0m \u001b[0mhasattr\u001b[0m\u001b[0;34m(\u001b[0m\u001b[0mtransformer\u001b[0m\u001b[0;34m,\u001b[0m \u001b[0;34m\"fit_transform\"\u001b[0m\u001b[0;34m)\u001b[0m\u001b[0;34m:\u001b[0m\u001b[0;34m\u001b[0m\u001b[0;34m\u001b[0m\u001b[0m\n\u001b[0;32m--> 893\u001b[0;31m             \u001b[0mres\u001b[0m \u001b[0;34m=\u001b[0m \u001b[0mtransformer\u001b[0m\u001b[0;34m.\u001b[0m\u001b[0mfit_transform\u001b[0m\u001b[0;34m(\u001b[0m\u001b[0mX\u001b[0m\u001b[0;34m,\u001b[0m \u001b[0my\u001b[0m\u001b[0;34m,\u001b[0m \u001b[0;34m**\u001b[0m\u001b[0mfit_params\u001b[0m\u001b[0;34m)\u001b[0m\u001b[0;34m\u001b[0m\u001b[0;34m\u001b[0m\u001b[0m\n\u001b[0m\u001b[1;32m    894\u001b[0m         \u001b[0;32melse\u001b[0m\u001b[0;34m:\u001b[0m\u001b[0;34m\u001b[0m\u001b[0;34m\u001b[0m\u001b[0m\n\u001b[1;32m    895\u001b[0m             \u001b[0mres\u001b[0m \u001b[0;34m=\u001b[0m \u001b[0mtransformer\u001b[0m\u001b[0;34m.\u001b[0m\u001b[0mfit\u001b[0m\u001b[0;34m(\u001b[0m\u001b[0mX\u001b[0m\u001b[0;34m,\u001b[0m \u001b[0my\u001b[0m\u001b[0;34m,\u001b[0m \u001b[0;34m**\u001b[0m\u001b[0mfit_params\u001b[0m\u001b[0;34m)\u001b[0m\u001b[0;34m.\u001b[0m\u001b[0mtransform\u001b[0m\u001b[0;34m(\u001b[0m\u001b[0mX\u001b[0m\u001b[0;34m)\u001b[0m\u001b[0;34m\u001b[0m\u001b[0;34m\u001b[0m\u001b[0m\n",
      "\u001b[0;32m/usr/local/lib/python3.9/site-packages/sklearn/pipeline.py\u001b[0m in \u001b[0;36mfit_transform\u001b[0;34m(self, X, y, **fit_params)\u001b[0m\n\u001b[1;32m    432\u001b[0m             \u001b[0mfit_params_last_step\u001b[0m \u001b[0;34m=\u001b[0m \u001b[0mfit_params_steps\u001b[0m\u001b[0;34m[\u001b[0m\u001b[0mself\u001b[0m\u001b[0;34m.\u001b[0m\u001b[0msteps\u001b[0m\u001b[0;34m[\u001b[0m\u001b[0;34m-\u001b[0m\u001b[0;36m1\u001b[0m\u001b[0;34m]\u001b[0m\u001b[0;34m[\u001b[0m\u001b[0;36m0\u001b[0m\u001b[0;34m]\u001b[0m\u001b[0;34m]\u001b[0m\u001b[0;34m\u001b[0m\u001b[0;34m\u001b[0m\u001b[0m\n\u001b[1;32m    433\u001b[0m             \u001b[0;32mif\u001b[0m \u001b[0mhasattr\u001b[0m\u001b[0;34m(\u001b[0m\u001b[0mlast_step\u001b[0m\u001b[0;34m,\u001b[0m \u001b[0;34m\"fit_transform\"\u001b[0m\u001b[0;34m)\u001b[0m\u001b[0;34m:\u001b[0m\u001b[0;34m\u001b[0m\u001b[0;34m\u001b[0m\u001b[0m\n\u001b[0;32m--> 434\u001b[0;31m                 \u001b[0;32mreturn\u001b[0m \u001b[0mlast_step\u001b[0m\u001b[0;34m.\u001b[0m\u001b[0mfit_transform\u001b[0m\u001b[0;34m(\u001b[0m\u001b[0mXt\u001b[0m\u001b[0;34m,\u001b[0m \u001b[0my\u001b[0m\u001b[0;34m,\u001b[0m \u001b[0;34m**\u001b[0m\u001b[0mfit_params_last_step\u001b[0m\u001b[0;34m)\u001b[0m\u001b[0;34m\u001b[0m\u001b[0;34m\u001b[0m\u001b[0m\n\u001b[0m\u001b[1;32m    435\u001b[0m             \u001b[0;32melse\u001b[0m\u001b[0;34m:\u001b[0m\u001b[0;34m\u001b[0m\u001b[0;34m\u001b[0m\u001b[0m\n\u001b[1;32m    436\u001b[0m                 \u001b[0;32mreturn\u001b[0m \u001b[0mlast_step\u001b[0m\u001b[0;34m.\u001b[0m\u001b[0mfit\u001b[0m\u001b[0;34m(\u001b[0m\u001b[0mXt\u001b[0m\u001b[0;34m,\u001b[0m \u001b[0my\u001b[0m\u001b[0;34m,\u001b[0m \u001b[0;34m**\u001b[0m\u001b[0mfit_params_last_step\u001b[0m\u001b[0;34m)\u001b[0m\u001b[0;34m.\u001b[0m\u001b[0mtransform\u001b[0m\u001b[0;34m(\u001b[0m\u001b[0mXt\u001b[0m\u001b[0;34m)\u001b[0m\u001b[0;34m\u001b[0m\u001b[0;34m\u001b[0m\u001b[0m\n",
      "\u001b[0;32m/usr/local/lib/python3.9/site-packages/sklearn/feature_extraction/text.py\u001b[0m in \u001b[0;36mfit_transform\u001b[0;34m(self, raw_documents, y)\u001b[0m\n\u001b[1;32m   2075\u001b[0m         \"\"\"\n\u001b[1;32m   2076\u001b[0m         \u001b[0mself\u001b[0m\u001b[0;34m.\u001b[0m\u001b[0m_check_params\u001b[0m\u001b[0;34m(\u001b[0m\u001b[0;34m)\u001b[0m\u001b[0;34m\u001b[0m\u001b[0;34m\u001b[0m\u001b[0m\n\u001b[0;32m-> 2077\u001b[0;31m         \u001b[0mX\u001b[0m \u001b[0;34m=\u001b[0m \u001b[0msuper\u001b[0m\u001b[0;34m(\u001b[0m\u001b[0;34m)\u001b[0m\u001b[0;34m.\u001b[0m\u001b[0mfit_transform\u001b[0m\u001b[0;34m(\u001b[0m\u001b[0mraw_documents\u001b[0m\u001b[0;34m)\u001b[0m\u001b[0;34m\u001b[0m\u001b[0;34m\u001b[0m\u001b[0m\n\u001b[0m\u001b[1;32m   2078\u001b[0m         \u001b[0mself\u001b[0m\u001b[0;34m.\u001b[0m\u001b[0m_tfidf\u001b[0m\u001b[0;34m.\u001b[0m\u001b[0mfit\u001b[0m\u001b[0;34m(\u001b[0m\u001b[0mX\u001b[0m\u001b[0;34m)\u001b[0m\u001b[0;34m\u001b[0m\u001b[0;34m\u001b[0m\u001b[0m\n\u001b[1;32m   2079\u001b[0m         \u001b[0;31m# X is already a transformed view of raw_documents so\u001b[0m\u001b[0;34m\u001b[0m\u001b[0;34m\u001b[0m\u001b[0;34m\u001b[0m\u001b[0m\n",
      "\u001b[0;32m/usr/local/lib/python3.9/site-packages/sklearn/feature_extraction/text.py\u001b[0m in \u001b[0;36mfit_transform\u001b[0;34m(self, raw_documents, y)\u001b[0m\n\u001b[1;32m   1328\u001b[0m                     \u001b[0;32mbreak\u001b[0m\u001b[0;34m\u001b[0m\u001b[0;34m\u001b[0m\u001b[0m\n\u001b[1;32m   1329\u001b[0m \u001b[0;34m\u001b[0m\u001b[0m\n\u001b[0;32m-> 1330\u001b[0;31m         \u001b[0mvocabulary\u001b[0m\u001b[0;34m,\u001b[0m \u001b[0mX\u001b[0m \u001b[0;34m=\u001b[0m \u001b[0mself\u001b[0m\u001b[0;34m.\u001b[0m\u001b[0m_count_vocab\u001b[0m\u001b[0;34m(\u001b[0m\u001b[0mraw_documents\u001b[0m\u001b[0;34m,\u001b[0m \u001b[0mself\u001b[0m\u001b[0;34m.\u001b[0m\u001b[0mfixed_vocabulary_\u001b[0m\u001b[0;34m)\u001b[0m\u001b[0;34m\u001b[0m\u001b[0;34m\u001b[0m\u001b[0m\n\u001b[0m\u001b[1;32m   1331\u001b[0m \u001b[0;34m\u001b[0m\u001b[0m\n\u001b[1;32m   1332\u001b[0m         \u001b[0;32mif\u001b[0m \u001b[0mself\u001b[0m\u001b[0;34m.\u001b[0m\u001b[0mbinary\u001b[0m\u001b[0;34m:\u001b[0m\u001b[0;34m\u001b[0m\u001b[0;34m\u001b[0m\u001b[0m\n",
      "\u001b[0;32m/usr/local/lib/python3.9/site-packages/sklearn/feature_extraction/text.py\u001b[0m in \u001b[0;36m_count_vocab\u001b[0;34m(self, raw_documents, fixed_vocab)\u001b[0m\n\u001b[1;32m   1199\u001b[0m         \u001b[0;32mfor\u001b[0m \u001b[0mdoc\u001b[0m \u001b[0;32min\u001b[0m \u001b[0mraw_documents\u001b[0m\u001b[0;34m:\u001b[0m\u001b[0;34m\u001b[0m\u001b[0;34m\u001b[0m\u001b[0m\n\u001b[1;32m   1200\u001b[0m             \u001b[0mfeature_counter\u001b[0m \u001b[0;34m=\u001b[0m \u001b[0;34m{\u001b[0m\u001b[0;34m}\u001b[0m\u001b[0;34m\u001b[0m\u001b[0;34m\u001b[0m\u001b[0m\n\u001b[0;32m-> 1201\u001b[0;31m             \u001b[0;32mfor\u001b[0m \u001b[0mfeature\u001b[0m \u001b[0;32min\u001b[0m \u001b[0manalyze\u001b[0m\u001b[0;34m(\u001b[0m\u001b[0mdoc\u001b[0m\u001b[0;34m)\u001b[0m\u001b[0;34m:\u001b[0m\u001b[0;34m\u001b[0m\u001b[0;34m\u001b[0m\u001b[0m\n\u001b[0m\u001b[1;32m   1202\u001b[0m                 \u001b[0;32mtry\u001b[0m\u001b[0;34m:\u001b[0m\u001b[0;34m\u001b[0m\u001b[0;34m\u001b[0m\u001b[0m\n\u001b[1;32m   1203\u001b[0m                     \u001b[0mfeature_idx\u001b[0m \u001b[0;34m=\u001b[0m \u001b[0mvocabulary\u001b[0m\u001b[0;34m[\u001b[0m\u001b[0mfeature\u001b[0m\u001b[0;34m]\u001b[0m\u001b[0;34m\u001b[0m\u001b[0;34m\u001b[0m\u001b[0m\n",
      "\u001b[0;32m/usr/local/lib/python3.9/site-packages/sklearn/feature_extraction/text.py\u001b[0m in \u001b[0;36m_analyze\u001b[0;34m(doc, analyzer, tokenizer, ngrams, preprocessor, decoder, stop_words)\u001b[0m\n\u001b[1;32m    111\u001b[0m     \u001b[0;32melse\u001b[0m\u001b[0;34m:\u001b[0m\u001b[0;34m\u001b[0m\u001b[0;34m\u001b[0m\u001b[0m\n\u001b[1;32m    112\u001b[0m         \u001b[0;32mif\u001b[0m \u001b[0mpreprocessor\u001b[0m \u001b[0;32mis\u001b[0m \u001b[0;32mnot\u001b[0m \u001b[0;32mNone\u001b[0m\u001b[0;34m:\u001b[0m\u001b[0;34m\u001b[0m\u001b[0;34m\u001b[0m\u001b[0m\n\u001b[0;32m--> 113\u001b[0;31m             \u001b[0mdoc\u001b[0m \u001b[0;34m=\u001b[0m \u001b[0mpreprocessor\u001b[0m\u001b[0;34m(\u001b[0m\u001b[0mdoc\u001b[0m\u001b[0;34m)\u001b[0m\u001b[0;34m\u001b[0m\u001b[0;34m\u001b[0m\u001b[0m\n\u001b[0m\u001b[1;32m    114\u001b[0m         \u001b[0;32mif\u001b[0m \u001b[0mtokenizer\u001b[0m \u001b[0;32mis\u001b[0m \u001b[0;32mnot\u001b[0m \u001b[0;32mNone\u001b[0m\u001b[0;34m:\u001b[0m\u001b[0;34m\u001b[0m\u001b[0;34m\u001b[0m\u001b[0m\n\u001b[1;32m    115\u001b[0m             \u001b[0mdoc\u001b[0m \u001b[0;34m=\u001b[0m \u001b[0mtokenizer\u001b[0m\u001b[0;34m(\u001b[0m\u001b[0mdoc\u001b[0m\u001b[0;34m)\u001b[0m\u001b[0;34m\u001b[0m\u001b[0;34m\u001b[0m\u001b[0m\n",
      "\u001b[0;32m/usr/local/lib/python3.9/site-packages/sklearn/feature_extraction/text.py\u001b[0m in \u001b[0;36m_preprocess\u001b[0;34m(doc, accent_function, lower)\u001b[0m\n\u001b[1;32m     69\u001b[0m     \"\"\"\n\u001b[1;32m     70\u001b[0m     \u001b[0;32mif\u001b[0m \u001b[0mlower\u001b[0m\u001b[0;34m:\u001b[0m\u001b[0;34m\u001b[0m\u001b[0;34m\u001b[0m\u001b[0m\n\u001b[0;32m---> 71\u001b[0;31m         \u001b[0mdoc\u001b[0m \u001b[0;34m=\u001b[0m \u001b[0mdoc\u001b[0m\u001b[0;34m.\u001b[0m\u001b[0mlower\u001b[0m\u001b[0;34m(\u001b[0m\u001b[0;34m)\u001b[0m\u001b[0;34m\u001b[0m\u001b[0;34m\u001b[0m\u001b[0m\n\u001b[0m\u001b[1;32m     72\u001b[0m     \u001b[0;32mif\u001b[0m \u001b[0maccent_function\u001b[0m \u001b[0;32mis\u001b[0m \u001b[0;32mnot\u001b[0m \u001b[0;32mNone\u001b[0m\u001b[0;34m:\u001b[0m\u001b[0;34m\u001b[0m\u001b[0;34m\u001b[0m\u001b[0m\n\u001b[1;32m     73\u001b[0m         \u001b[0mdoc\u001b[0m \u001b[0;34m=\u001b[0m \u001b[0maccent_function\u001b[0m\u001b[0;34m(\u001b[0m\u001b[0mdoc\u001b[0m\u001b[0;34m)\u001b[0m\u001b[0;34m\u001b[0m\u001b[0;34m\u001b[0m\u001b[0m\n",
      "\u001b[0;31mAttributeError\u001b[0m: 'int' object has no attribute 'lower'"
     ]
    }
   ],
   "source": [
    "train_comments = comments.query(\"split=='train'\")\n",
    "test_comments = comments.query(\"split=='test'\")\n",
    "\n",
    "pipeline = Pipeline([\n",
    "\n",
    "    # Use FeatureUnion to combine the features from subject and body\n",
    "    ('union', FeatureUnion(\n",
    "        transformer_list=[\n",
    "\n",
    "            # Pipeline for pulling features from the year\n",
    "            ('year', Pipeline([\n",
    "                ('selector', ItemSelector(key='year')),\n",
    "                ('tfidf', TfidfVectorizer(min_df=50)),\n",
    "            ])),\n",
    "\n",
    "            # Pipeline for standard bag-of-words model for body\n",
    "            ('comment', Pipeline([\n",
    "                ('selector', ItemSelector(key='comment')),\n",
    "                ('tfidf', TfidfVectorizer()),\n",
    "                ('best', TruncatedSVD(n_components=50)),\n",
    "            ])),\n",
    "\n",
    "            # Pipeline for pulling ad hoc features from post's body\n",
    "            ('namespace', Pipeline([\n",
    "                ('selector', ItemSelector(key='ns')),\n",
    "                ('stats', TextStats()),  # returns a list of dicts\n",
    "                ('vect', DictVectorizer()),  # list of dicts -> feature matrix\n",
    "            ])),\n",
    "\n",
    "        ],\n",
    "\n",
    "        # weight components in FeatureUnion\n",
    "        transformer_weights={\n",
    "            'year': 0.8,\n",
    "            'comment': 0.5,\n",
    "            'namespace': 1.0,\n",
    "        },\n",
    "    )),\n",
    "\n",
    "    # Use a SVC classifier on the combined features\n",
    "    ('svc', SVC(kernel='linear')),\n",
    "])\n",
    "pipeline = pipeline.fit(train_comments, train_comments['attack'])\n",
    "met = metrics.classification_report(test_comments['attack'], pipeline.predict(test_comments))\n",
    "print(met)"
   ]
  },
  {
   "cell_type": "markdown",
   "metadata": {},
   "source": [
    "## LogisticRegression Classifier"
   ]
  },
  {
   "cell_type": "code",
   "execution_count": 20,
   "metadata": {},
   "outputs": [
    {
     "name": "stdout",
     "output_type": "stream",
     "text": [
      "              precision    recall  f1-score   support\n",
      "\n",
      "       False       0.94      0.99      0.97     20422\n",
      "        True       0.92      0.55      0.69      2756\n",
      "\n",
      "    accuracy                           0.94     23178\n",
      "   macro avg       0.93      0.77      0.83     23178\n",
      "weighted avg       0.94      0.94      0.93     23178\n",
      "\n"
     ]
    }
   ],
   "source": [
    "# fit a simple text classifier\n",
    "\n",
    "from sklearn.datasets import load_iris\n",
    "from sklearn.linear_model import LogisticRegression\n",
    "\n",
    "train_comments = comments.query(\"split=='train'\")\n",
    "test_comments = comments.query(\"split=='test'\")\n",
    "\n",
    "clf = Pipeline([\n",
    "    ('vect', CountVectorizer(max_features = 10000, ngram_range = (1,2))),\n",
    "    ('tfidf', TfidfTransformer(norm = 'l2')),\n",
    "    ('clf', LogisticRegression(random_state=0)),\n",
    "])\n",
    "clf = clf.fit(train_comments['comment'], train_comments['attack'])\n",
    "met = metrics.classification_report(test_comments['attack'], clf.predict(test_comments['comment']))\n",
    "print(met)\n"
   ]
  },
  {
   "cell_type": "code",
   "execution_count": 21,
   "metadata": {},
   "outputs": [
    {
     "name": "stdout",
     "output_type": "stream",
     "text": [
      "(0.9306871762038317, 0.772118353538594, 0.8280202850751003, None)\n"
     ]
    }
   ],
   "source": [
    "metirc2 = precision_recall_fscore_support(test_comments['attack'], clf.predict(test_comments['comment']), average='macro')\n",
    "print(metirc2)"
   ]
  },
  {
   "cell_type": "markdown",
   "metadata": {},
   "source": [
    "## MultinomialNB Classifier"
   ]
  },
  {
   "cell_type": "code",
   "execution_count": 24,
   "metadata": {},
   "outputs": [
    {
     "name": "stdout",
     "output_type": "stream",
     "text": [
      "              precision    recall  f1-score   support\n",
      "\n",
      "       False       0.94      0.99      0.96     20422\n",
      "        True       0.88      0.51      0.64      2756\n",
      "\n",
      "    accuracy                           0.93     23178\n",
      "   macro avg       0.91      0.75      0.80     23178\n",
      "weighted avg       0.93      0.93      0.93     23178\n",
      "\n"
     ]
    }
   ],
   "source": [
    "from sklearn.naive_bayes import MultinomialNB\n",
    "\n",
    "train_comments = comments.query(\"split=='train'\")\n",
    "test_comments = comments.query(\"split=='test'\")\n",
    "\n",
    "clf = Pipeline([\n",
    "    ('vect', CountVectorizer(max_features = 10000, ngram_range = (1,2))),\n",
    "    ('tfidf', TfidfTransformer(norm = 'l2')),\n",
    "    ('clf', MultinomialNB()),\n",
    "])\n",
    "clf = clf.fit(train_comments['comment'], train_comments['attack'])\n",
    "met = metrics.classification_report(test_comments['attack'], clf.predict(test_comments['comment']))\n",
    "print(met)\n"
   ]
  },
  {
   "cell_type": "code",
   "execution_count": 25,
   "metadata": {},
   "outputs": [
    {
     "name": "stdout",
     "output_type": "stream",
     "text": [
      "(0.9081907751028948, 0.7498102625316987, 0.8039775054686669, None)\n"
     ]
    }
   ],
   "source": [
    "metirc3 = precision_recall_fscore_support(test_comments['attack'], clf.predict(test_comments['comment']), average='macro')\n",
    "print(metirc3)"
   ]
  },
  {
   "cell_type": "markdown",
   "metadata": {},
   "source": [
    "## SMV Classifier"
   ]
  },
  {
   "cell_type": "code",
   "execution_count": 30,
   "metadata": {},
   "outputs": [
    {
     "name": "stdout",
     "output_type": "stream",
     "text": [
      "              precision    recall  f1-score   support\n",
      "\n",
      "       False       0.95      0.99      0.97     20422\n",
      "        True       0.90      0.60      0.72      2756\n",
      "\n",
      "    accuracy                           0.94     23178\n",
      "   macro avg       0.92      0.80      0.84     23178\n",
      "weighted avg       0.94      0.94      0.94     23178\n",
      "\n"
     ]
    }
   ],
   "source": [
    "from sklearn.svm import SVC\n",
    "\n",
    "train_comments = comments.query(\"split=='train'\")\n",
    "test_comments = comments.query(\"split=='test'\")\n",
    "\n",
    "clf = Pipeline([\n",
    "    ('vect', CountVectorizer(max_features = 10000, ngram_range = (1,2))),\n",
    "    ('tfidf', TfidfTransformer(norm = 'l2')),\n",
    "    ('clf', SVC(kernel='linear', gamma='auto')),\n",
    "])\n",
    "clf = clf.fit(train_comments['comment'], train_comments['attack'])\n",
    "met = metrics.classification_report(test_comments['attack'], clf.predict(test_comments['comment']))\n",
    "print(met)"
   ]
  },
  {
   "cell_type": "markdown",
   "metadata": {},
   "source": [
    "## Hyperparameters Tuning "
   ]
  },
  {
   "cell_type": "markdown",
   "metadata": {},
   "source": [
    "Since Logistice Regress model gives the best result according to the confusion martics, I will continue to optimize the model by using hyperparameters tuning, trying different parameters."
   ]
  },
  {
   "cell_type": "markdown",
   "metadata": {},
   "source": [
    "We also use k-fold cross-validation and set k = 2. Therefore, we attempt to maximize the use of the available data for training and then testing a model"
   ]
  },
  {
   "cell_type": "code",
   "execution_count": 22,
   "metadata": {},
   "outputs": [],
   "source": [
    "from sklearn.model_selection import GridSearchCV"
   ]
  },
  {
   "cell_type": "code",
   "execution_count": 23,
   "metadata": {},
   "outputs": [],
   "source": [
    "from sklearn.model_selection import GridSearchCV\n",
    "pipe = Pipeline([\n",
    "    ('vect', CountVectorizer(max_features = 10000)),\n",
    "    ('tfidf', TfidfTransformer(norm = 'l2')),\n",
    "    ('clf', LogisticRegression(random_state=0)),\n",
    "])\n"
   ]
  },
  {
   "cell_type": "code",
   "execution_count": 24,
   "metadata": {},
   "outputs": [
    {
     "data": {
      "text/plain": [
       "dict_keys(['memory', 'steps', 'verbose', 'vect', 'tfidf', 'clf', 'vect__analyzer', 'vect__binary', 'vect__decode_error', 'vect__dtype', 'vect__encoding', 'vect__input', 'vect__lowercase', 'vect__max_df', 'vect__max_features', 'vect__min_df', 'vect__ngram_range', 'vect__preprocessor', 'vect__stop_words', 'vect__strip_accents', 'vect__token_pattern', 'vect__tokenizer', 'vect__vocabulary', 'tfidf__norm', 'tfidf__smooth_idf', 'tfidf__sublinear_tf', 'tfidf__use_idf', 'clf__C', 'clf__class_weight', 'clf__dual', 'clf__fit_intercept', 'clf__intercept_scaling', 'clf__l1_ratio', 'clf__max_iter', 'clf__multi_class', 'clf__n_jobs', 'clf__penalty', 'clf__random_state', 'clf__solver', 'clf__tol', 'clf__verbose', 'clf__warm_start'])"
      ]
     },
     "execution_count": 24,
     "metadata": {},
     "output_type": "execute_result"
    }
   ],
   "source": [
    "pipe.get_params().keys()"
   ]
  },
  {
   "cell_type": "code",
   "execution_count": 25,
   "metadata": {},
   "outputs": [
    {
     "name": "stdout",
     "output_type": "stream",
     "text": [
      "Fitting 2 folds for each of 24 candidates, totalling 48 fits\n"
     ]
    },
    {
     "name": "stderr",
     "output_type": "stream",
     "text": [
      "/usr/local/lib/python3.9/site-packages/sklearn/linear_model/_logistic.py:814: ConvergenceWarning: lbfgs failed to converge (status=1):\n",
      "STOP: TOTAL NO. of ITERATIONS REACHED LIMIT.\n",
      "\n",
      "Increase the number of iterations (max_iter) or scale the data as shown in:\n",
      "    https://scikit-learn.org/stable/modules/preprocessing.html\n",
      "Please also refer to the documentation for alternative solver options:\n",
      "    https://scikit-learn.org/stable/modules/linear_model.html#logistic-regression\n",
      "  n_iter_i = _check_optimize_result(\n",
      "/usr/local/lib/python3.9/site-packages/sklearn/linear_model/_logistic.py:814: ConvergenceWarning: lbfgs failed to converge (status=1):\n",
      "STOP: TOTAL NO. of ITERATIONS REACHED LIMIT.\n",
      "\n",
      "Increase the number of iterations (max_iter) or scale the data as shown in:\n",
      "    https://scikit-learn.org/stable/modules/preprocessing.html\n",
      "Please also refer to the documentation for alternative solver options:\n",
      "    https://scikit-learn.org/stable/modules/linear_model.html#logistic-regression\n",
      "  n_iter_i = _check_optimize_result(\n",
      "/usr/local/lib/python3.9/site-packages/sklearn/linear_model/_logistic.py:814: ConvergenceWarning: lbfgs failed to converge (status=1):\n",
      "STOP: TOTAL NO. of ITERATIONS REACHED LIMIT.\n",
      "\n",
      "Increase the number of iterations (max_iter) or scale the data as shown in:\n",
      "    https://scikit-learn.org/stable/modules/preprocessing.html\n",
      "Please also refer to the documentation for alternative solver options:\n",
      "    https://scikit-learn.org/stable/modules/linear_model.html#logistic-regression\n",
      "  n_iter_i = _check_optimize_result(\n",
      "/usr/local/lib/python3.9/site-packages/sklearn/linear_model/_logistic.py:814: ConvergenceWarning: lbfgs failed to converge (status=1):\n",
      "STOP: TOTAL NO. of ITERATIONS REACHED LIMIT.\n",
      "\n",
      "Increase the number of iterations (max_iter) or scale the data as shown in:\n",
      "    https://scikit-learn.org/stable/modules/preprocessing.html\n",
      "Please also refer to the documentation for alternative solver options:\n",
      "    https://scikit-learn.org/stable/modules/linear_model.html#logistic-regression\n",
      "  n_iter_i = _check_optimize_result(\n",
      "/usr/local/lib/python3.9/site-packages/sklearn/linear_model/_logistic.py:814: ConvergenceWarning: lbfgs failed to converge (status=1):\n",
      "STOP: TOTAL NO. of ITERATIONS REACHED LIMIT.\n",
      "\n",
      "Increase the number of iterations (max_iter) or scale the data as shown in:\n",
      "    https://scikit-learn.org/stable/modules/preprocessing.html\n",
      "Please also refer to the documentation for alternative solver options:\n",
      "    https://scikit-learn.org/stable/modules/linear_model.html#logistic-regression\n",
      "  n_iter_i = _check_optimize_result(\n",
      "/usr/local/lib/python3.9/site-packages/sklearn/linear_model/_logistic.py:814: ConvergenceWarning: lbfgs failed to converge (status=1):\n",
      "STOP: TOTAL NO. of ITERATIONS REACHED LIMIT.\n",
      "\n",
      "Increase the number of iterations (max_iter) or scale the data as shown in:\n",
      "    https://scikit-learn.org/stable/modules/preprocessing.html\n",
      "Please also refer to the documentation for alternative solver options:\n",
      "    https://scikit-learn.org/stable/modules/linear_model.html#logistic-regression\n",
      "  n_iter_i = _check_optimize_result(\n",
      "/usr/local/lib/python3.9/site-packages/sklearn/linear_model/_logistic.py:814: ConvergenceWarning: lbfgs failed to converge (status=1):\n",
      "STOP: TOTAL NO. of ITERATIONS REACHED LIMIT.\n",
      "\n",
      "Increase the number of iterations (max_iter) or scale the data as shown in:\n",
      "    https://scikit-learn.org/stable/modules/preprocessing.html\n",
      "Please also refer to the documentation for alternative solver options:\n",
      "    https://scikit-learn.org/stable/modules/linear_model.html#logistic-regression\n",
      "  n_iter_i = _check_optimize_result(\n",
      "/usr/local/lib/python3.9/site-packages/sklearn/linear_model/_logistic.py:814: ConvergenceWarning: lbfgs failed to converge (status=1):\n",
      "STOP: TOTAL NO. of ITERATIONS REACHED LIMIT.\n",
      "\n",
      "Increase the number of iterations (max_iter) or scale the data as shown in:\n",
      "    https://scikit-learn.org/stable/modules/preprocessing.html\n",
      "Please also refer to the documentation for alternative solver options:\n",
      "    https://scikit-learn.org/stable/modules/linear_model.html#logistic-regression\n",
      "  n_iter_i = _check_optimize_result(\n",
      "/usr/local/lib/python3.9/site-packages/sklearn/linear_model/_logistic.py:814: ConvergenceWarning: lbfgs failed to converge (status=1):\n",
      "STOP: TOTAL NO. of ITERATIONS REACHED LIMIT.\n",
      "\n",
      "Increase the number of iterations (max_iter) or scale the data as shown in:\n",
      "    https://scikit-learn.org/stable/modules/preprocessing.html\n",
      "Please also refer to the documentation for alternative solver options:\n",
      "    https://scikit-learn.org/stable/modules/linear_model.html#logistic-regression\n",
      "  n_iter_i = _check_optimize_result(\n",
      "/usr/local/lib/python3.9/site-packages/sklearn/linear_model/_logistic.py:814: ConvergenceWarning: lbfgs failed to converge (status=1):\n",
      "STOP: TOTAL NO. of ITERATIONS REACHED LIMIT.\n",
      "\n",
      "Increase the number of iterations (max_iter) or scale the data as shown in:\n",
      "    https://scikit-learn.org/stable/modules/preprocessing.html\n",
      "Please also refer to the documentation for alternative solver options:\n",
      "    https://scikit-learn.org/stable/modules/linear_model.html#logistic-regression\n",
      "  n_iter_i = _check_optimize_result(\n",
      "/usr/local/lib/python3.9/site-packages/sklearn/linear_model/_logistic.py:814: ConvergenceWarning: lbfgs failed to converge (status=1):\n",
      "STOP: TOTAL NO. of ITERATIONS REACHED LIMIT.\n",
      "\n",
      "Increase the number of iterations (max_iter) or scale the data as shown in:\n",
      "    https://scikit-learn.org/stable/modules/preprocessing.html\n",
      "Please also refer to the documentation for alternative solver options:\n",
      "    https://scikit-learn.org/stable/modules/linear_model.html#logistic-regression\n",
      "  n_iter_i = _check_optimize_result(\n",
      "/usr/local/lib/python3.9/site-packages/sklearn/linear_model/_logistic.py:814: ConvergenceWarning: lbfgs failed to converge (status=1):\n",
      "STOP: TOTAL NO. of ITERATIONS REACHED LIMIT.\n",
      "\n",
      "Increase the number of iterations (max_iter) or scale the data as shown in:\n",
      "    https://scikit-learn.org/stable/modules/preprocessing.html\n",
      "Please also refer to the documentation for alternative solver options:\n",
      "    https://scikit-learn.org/stable/modules/linear_model.html#logistic-regression\n",
      "  n_iter_i = _check_optimize_result(\n",
      "/usr/local/lib/python3.9/site-packages/sklearn/linear_model/_logistic.py:814: ConvergenceWarning: lbfgs failed to converge (status=1):\n",
      "STOP: TOTAL NO. of ITERATIONS REACHED LIMIT.\n",
      "\n",
      "Increase the number of iterations (max_iter) or scale the data as shown in:\n",
      "    https://scikit-learn.org/stable/modules/preprocessing.html\n",
      "Please also refer to the documentation for alternative solver options:\n",
      "    https://scikit-learn.org/stable/modules/linear_model.html#logistic-regression\n",
      "  n_iter_i = _check_optimize_result(\n",
      "/usr/local/lib/python3.9/site-packages/sklearn/linear_model/_logistic.py:814: ConvergenceWarning: lbfgs failed to converge (status=1):\n",
      "STOP: TOTAL NO. of ITERATIONS REACHED LIMIT.\n",
      "\n",
      "Increase the number of iterations (max_iter) or scale the data as shown in:\n",
      "    https://scikit-learn.org/stable/modules/preprocessing.html\n",
      "Please also refer to the documentation for alternative solver options:\n",
      "    https://scikit-learn.org/stable/modules/linear_model.html#logistic-regression\n",
      "  n_iter_i = _check_optimize_result(\n",
      "/usr/local/lib/python3.9/site-packages/sklearn/linear_model/_logistic.py:814: ConvergenceWarning: lbfgs failed to converge (status=1):\n",
      "STOP: TOTAL NO. of ITERATIONS REACHED LIMIT.\n",
      "\n",
      "Increase the number of iterations (max_iter) or scale the data as shown in:\n",
      "    https://scikit-learn.org/stable/modules/preprocessing.html\n",
      "Please also refer to the documentation for alternative solver options:\n",
      "    https://scikit-learn.org/stable/modules/linear_model.html#logistic-regression\n",
      "  n_iter_i = _check_optimize_result(\n",
      "/usr/local/lib/python3.9/site-packages/sklearn/linear_model/_logistic.py:814: ConvergenceWarning: lbfgs failed to converge (status=1):\n",
      "STOP: TOTAL NO. of ITERATIONS REACHED LIMIT.\n",
      "\n",
      "Increase the number of iterations (max_iter) or scale the data as shown in:\n",
      "    https://scikit-learn.org/stable/modules/preprocessing.html\n",
      "Please also refer to the documentation for alternative solver options:\n",
      "    https://scikit-learn.org/stable/modules/linear_model.html#logistic-regression\n",
      "  n_iter_i = _check_optimize_result(\n",
      "/usr/local/lib/python3.9/site-packages/sklearn/model_selection/_validation.py:372: FitFailedWarning: \n",
      "24 fits failed out of a total of 48.\n",
      "The score on these train-test partitions for these parameters will be set to nan.\n",
      "If these failures are not expected, you can try to debug them by setting error_score='raise'.\n",
      "\n",
      "Below are more details about the failures:\n",
      "--------------------------------------------------------------------------------\n",
      "24 fits failed with the following error:\n",
      "Traceback (most recent call last):\n",
      "  File \"/usr/local/lib/python3.9/site-packages/sklearn/model_selection/_validation.py\", line 681, in _fit_and_score\n",
      "    estimator.fit(X_train, y_train, **fit_params)\n",
      "  File \"/usr/local/lib/python3.9/site-packages/sklearn/pipeline.py\", line 394, in fit\n",
      "    self._final_estimator.fit(Xt, y, **fit_params_last_step)\n",
      "  File \"/usr/local/lib/python3.9/site-packages/sklearn/linear_model/_logistic.py\", line 1461, in fit\n",
      "    solver = _check_solver(self.solver, self.penalty, self.dual)\n",
      "  File \"/usr/local/lib/python3.9/site-packages/sklearn/linear_model/_logistic.py\", line 447, in _check_solver\n",
      "    raise ValueError(\n",
      "ValueError: Solver lbfgs supports only 'l2' or 'none' penalties, got l1 penalty.\n",
      "\n",
      "  warnings.warn(some_fits_failed_message, FitFailedWarning)\n",
      "/usr/local/lib/python3.9/site-packages/sklearn/model_selection/_search.py:969: UserWarning: One or more of the test scores are non-finite: [       nan        nan 0.931709   0.93163709        nan        nan\n",
      " 0.93685815 0.93651296        nan        nan 0.94091419 0.94010874\n",
      "        nan        nan 0.94029572 0.93947588        nan        nan\n",
      " 0.93389523 0.93127751        nan        nan 0.92952277 0.92707764]\n",
      "  warnings.warn(\n"
     ]
    },
    {
     "name": "stdout",
     "output_type": "stream",
     "text": [
      "{'mean_fit_time': array([ 10.13237143,  40.13182962,  11.27746248,  42.53912842,\n",
      "        14.78471053,  46.31410253,  15.90874791,  59.37552547,\n",
      "        13.2542491 ,  64.80201411,  17.10616601,  64.42846835,\n",
      "        17.32607496,  32.8082875 ,  16.92709577,  86.93640447,\n",
      "        27.47506702, 165.06145144,  56.19363844,  87.60426247,\n",
      "        27.964908  ,  75.60427296,  24.20180845,  25.07821608]), 'std_fit_time': array([4.72890377e-01, 5.90860844e-03, 4.75875378e-01, 1.73262346e+00,\n",
      "       1.33623946e+00, 8.98770452e-01, 1.14425111e+00, 4.92912531e-01,\n",
      "       1.87409019e+00, 5.03989196e+00, 3.31884027e-01, 5.77374697e-02,\n",
      "       1.72934020e+00, 5.21664035e+00, 9.39029098e-01, 3.45527925e+01,\n",
      "       7.73879993e+00, 7.69204140e+00, 8.72306764e+00, 1.33573364e+01,\n",
      "       1.17731202e+00, 4.07794797e+00, 2.56445456e+00, 3.17653894e-01]), 'mean_score_time': array([ 0.        ,  0.        ,  7.14484966, 11.17938173,  0.        ,\n",
      "        0.        ,  6.65084088, 16.19774902,  0.        ,  0.        ,\n",
      "       10.05668092, 14.07220709,  0.        ,  0.        ,  7.81634009,\n",
      "       29.03758812,  0.        ,  0.        , 10.23154008, 29.00022054,\n",
      "        0.        ,  0.        , 10.01016104,  5.03088689]), 'std_score_time': array([0.        , 0.        , 0.38462842, 1.0981096 , 0.        ,\n",
      "       0.        , 0.23742402, 0.77978981, 0.        , 0.        ,\n",
      "       0.26550007, 1.54246891, 0.        , 0.        , 0.68177402,\n",
      "       6.61490798, 0.        , 0.        , 0.04644096, 6.29612756,\n",
      "       0.        , 0.        , 5.88194025, 0.44510412]), 'param_clf__C': masked_array(data=[0.5, 0.5, 0.5, 0.5, 1, 1, 1, 1, 5, 5, 5, 5, 10, 10, 10,\n",
      "                   10, 50, 50, 50, 50, 100, 100, 100, 100],\n",
      "             mask=[False, False, False, False, False, False, False, False,\n",
      "                   False, False, False, False, False, False, False, False,\n",
      "                   False, False, False, False, False, False, False, False],\n",
      "       fill_value='?',\n",
      "            dtype=object), 'param_clf__penalty': masked_array(data=['l1', 'l1', 'l2', 'l2', 'l1', 'l1', 'l2', 'l2', 'l1',\n",
      "                   'l1', 'l2', 'l2', 'l1', 'l1', 'l2', 'l2', 'l1', 'l1',\n",
      "                   'l2', 'l2', 'l1', 'l1', 'l2', 'l2'],\n",
      "             mask=[False, False, False, False, False, False, False, False,\n",
      "                   False, False, False, False, False, False, False, False,\n",
      "                   False, False, False, False, False, False, False, False],\n",
      "       fill_value='?',\n",
      "            dtype=object), 'param_vect__ngram_range': masked_array(data=[(1, 2), (1, 3), (1, 2), (1, 3), (1, 2), (1, 3), (1, 2),\n",
      "                   (1, 3), (1, 2), (1, 3), (1, 2), (1, 3), (1, 2), (1, 3),\n",
      "                   (1, 2), (1, 3), (1, 2), (1, 3), (1, 2), (1, 3), (1, 2),\n",
      "                   (1, 3), (1, 2), (1, 3)],\n",
      "             mask=[False, False, False, False, False, False, False, False,\n",
      "                   False, False, False, False, False, False, False, False,\n",
      "                   False, False, False, False, False, False, False, False],\n",
      "       fill_value='?',\n",
      "            dtype=object), 'params': [{'clf__C': 0.5, 'clf__penalty': 'l1', 'vect__ngram_range': (1, 2)}, {'clf__C': 0.5, 'clf__penalty': 'l1', 'vect__ngram_range': (1, 3)}, {'clf__C': 0.5, 'clf__penalty': 'l2', 'vect__ngram_range': (1, 2)}, {'clf__C': 0.5, 'clf__penalty': 'l2', 'vect__ngram_range': (1, 3)}, {'clf__C': 1, 'clf__penalty': 'l1', 'vect__ngram_range': (1, 2)}, {'clf__C': 1, 'clf__penalty': 'l1', 'vect__ngram_range': (1, 3)}, {'clf__C': 1, 'clf__penalty': 'l2', 'vect__ngram_range': (1, 2)}, {'clf__C': 1, 'clf__penalty': 'l2', 'vect__ngram_range': (1, 3)}, {'clf__C': 5, 'clf__penalty': 'l1', 'vect__ngram_range': (1, 2)}, {'clf__C': 5, 'clf__penalty': 'l1', 'vect__ngram_range': (1, 3)}, {'clf__C': 5, 'clf__penalty': 'l2', 'vect__ngram_range': (1, 2)}, {'clf__C': 5, 'clf__penalty': 'l2', 'vect__ngram_range': (1, 3)}, {'clf__C': 10, 'clf__penalty': 'l1', 'vect__ngram_range': (1, 2)}, {'clf__C': 10, 'clf__penalty': 'l1', 'vect__ngram_range': (1, 3)}, {'clf__C': 10, 'clf__penalty': 'l2', 'vect__ngram_range': (1, 2)}, {'clf__C': 10, 'clf__penalty': 'l2', 'vect__ngram_range': (1, 3)}, {'clf__C': 50, 'clf__penalty': 'l1', 'vect__ngram_range': (1, 2)}, {'clf__C': 50, 'clf__penalty': 'l1', 'vect__ngram_range': (1, 3)}, {'clf__C': 50, 'clf__penalty': 'l2', 'vect__ngram_range': (1, 2)}, {'clf__C': 50, 'clf__penalty': 'l2', 'vect__ngram_range': (1, 3)}, {'clf__C': 100, 'clf__penalty': 'l1', 'vect__ngram_range': (1, 2)}, {'clf__C': 100, 'clf__penalty': 'l1', 'vect__ngram_range': (1, 3)}, {'clf__C': 100, 'clf__penalty': 'l2', 'vect__ngram_range': (1, 2)}, {'clf__C': 100, 'clf__penalty': 'l2', 'vect__ngram_range': (1, 3)}], 'split0_test_score': array([       nan,        nan, 0.93191036, 0.931709  ,        nan,\n",
      "              nan, 0.93708828, 0.93697322,        nan,        nan,\n",
      "       0.94062653, 0.93956218,        nan,        nan, 0.93927452,\n",
      "       0.93806633,        nan,        nan, 0.93119121, 0.92822829,\n",
      "              nan,        nan, 0.92702011, 0.92305037]), 'split1_test_score': array([       nan,        nan, 0.93150764, 0.93156517,        nan,\n",
      "              nan, 0.93662802, 0.9360527 ,        nan,        nan,\n",
      "       0.94120185, 0.94065529,        nan,        nan, 0.94131692,\n",
      "       0.94088542,        nan,        nan, 0.93659926, 0.93432673,\n",
      "              nan,        nan, 0.93202543, 0.93110491]), 'mean_test_score': array([       nan,        nan, 0.931709  , 0.93163709,        nan,\n",
      "              nan, 0.93685815, 0.93651296,        nan,        nan,\n",
      "       0.94091419, 0.94010874,        nan,        nan, 0.94029572,\n",
      "       0.93947588,        nan,        nan, 0.93389523, 0.93127751,\n",
      "              nan,        nan, 0.92952277, 0.92707764]), 'std_test_score': array([           nan,            nan, 2.01363519e-04, 7.19155424e-05,\n",
      "                  nan,            nan, 2.30129736e-04, 4.60259471e-04,\n",
      "                  nan,            nan, 2.87662170e-04, 5.46558122e-04,\n",
      "                  nan,            nan, 1.02120070e-03, 1.40954463e-03,\n",
      "                  nan,            nan, 2.70402439e-03, 3.04921900e-03,\n",
      "                  nan,            nan, 2.50266088e-03, 4.02727037e-03]), 'rank_test_score': array([24, 20,  8,  9, 19, 16,  5,  6, 15, 23,  1,  3, 13, 14,  2,  4, 17,\n",
      "       18,  7, 10, 21, 22, 11, 12], dtype=int32)}\n"
     ]
    },
    {
     "name": "stderr",
     "output_type": "stream",
     "text": [
      "/usr/local/lib/python3.9/site-packages/sklearn/linear_model/_logistic.py:814: ConvergenceWarning: lbfgs failed to converge (status=1):\n",
      "STOP: TOTAL NO. of ITERATIONS REACHED LIMIT.\n",
      "\n",
      "Increase the number of iterations (max_iter) or scale the data as shown in:\n",
      "    https://scikit-learn.org/stable/modules/preprocessing.html\n",
      "Please also refer to the documentation for alternative solver options:\n",
      "    https://scikit-learn.org/stable/modules/linear_model.html#logistic-regression\n",
      "  n_iter_i = _check_optimize_result(\n"
     ]
    }
   ],
   "source": [
    "# param_grid = dict(estimator__clf__penalty=['l1', 'l2'], estimator__clf__C=[0.5, 1, 5, 10, 50, 100])\n",
    "param_grid = {'clf__penalty':['l1', 'l2'], \n",
    "              'clf__C':[0.5, 1, 5, 10, 50, 100],\n",
    "              'vect__ngram_range':[(1, 2), (1, 3)]\n",
    "             }\n",
    "\n",
    "clf = GridSearchCV(pipe, param_grid, verbose=10, n_jobs=-1, cv=2, return_train_score=False, scoring=\"accuracy\")\n",
    "\n",
    "clf = clf.fit(train_comments['comment'], train_comments['attack'])\n",
    "print(clf.cv_results_)"
   ]
  },
  {
   "cell_type": "code",
   "execution_count": 26,
   "metadata": {},
   "outputs": [
    {
     "data": {
      "text/plain": [
       "dict_keys(['cv', 'error_score', 'estimator__memory', 'estimator__steps', 'estimator__verbose', 'estimator__vect', 'estimator__tfidf', 'estimator__clf', 'estimator__vect__analyzer', 'estimator__vect__binary', 'estimator__vect__decode_error', 'estimator__vect__dtype', 'estimator__vect__encoding', 'estimator__vect__input', 'estimator__vect__lowercase', 'estimator__vect__max_df', 'estimator__vect__max_features', 'estimator__vect__min_df', 'estimator__vect__ngram_range', 'estimator__vect__preprocessor', 'estimator__vect__stop_words', 'estimator__vect__strip_accents', 'estimator__vect__token_pattern', 'estimator__vect__tokenizer', 'estimator__vect__vocabulary', 'estimator__tfidf__norm', 'estimator__tfidf__smooth_idf', 'estimator__tfidf__sublinear_tf', 'estimator__tfidf__use_idf', 'estimator__clf__C', 'estimator__clf__class_weight', 'estimator__clf__dual', 'estimator__clf__fit_intercept', 'estimator__clf__intercept_scaling', 'estimator__clf__l1_ratio', 'estimator__clf__max_iter', 'estimator__clf__multi_class', 'estimator__clf__n_jobs', 'estimator__clf__penalty', 'estimator__clf__random_state', 'estimator__clf__solver', 'estimator__clf__tol', 'estimator__clf__verbose', 'estimator__clf__warm_start', 'estimator', 'n_jobs', 'param_grid', 'pre_dispatch', 'refit', 'return_train_score', 'scoring', 'verbose'])"
      ]
     },
     "execution_count": 26,
     "metadata": {},
     "output_type": "execute_result"
    }
   ],
   "source": [
    "clf.get_params().keys()"
   ]
  },
  {
   "cell_type": "code",
   "execution_count": 28,
   "metadata": {},
   "outputs": [
    {
     "name": "stdout",
     "output_type": "stream",
     "text": [
      "    mean_fit_time  std_fit_time  mean_score_time  std_score_time param_clf__C  \\\n",
      "0       10.132371      0.472890         0.000000        0.000000          0.5   \n",
      "1       40.131830      0.005909         0.000000        0.000000          0.5   \n",
      "2       11.277462      0.475875         7.144850        0.384628          0.5   \n",
      "3       42.539128      1.732623        11.179382        1.098110          0.5   \n",
      "4       14.784711      1.336239         0.000000        0.000000            1   \n",
      "5       46.314103      0.898770         0.000000        0.000000            1   \n",
      "6       15.908748      1.144251         6.650841        0.237424            1   \n",
      "7       59.375525      0.492913        16.197749        0.779790            1   \n",
      "8       13.254249      1.874090         0.000000        0.000000            5   \n",
      "9       64.802014      5.039892         0.000000        0.000000            5   \n",
      "10      17.106166      0.331884        10.056681        0.265500            5   \n",
      "11      64.428468      0.057737        14.072207        1.542469            5   \n",
      "12      17.326075      1.729340         0.000000        0.000000           10   \n",
      "13      32.808288      5.216640         0.000000        0.000000           10   \n",
      "14      16.927096      0.939029         7.816340        0.681774           10   \n",
      "15      86.936404     34.552793        29.037588        6.614908           10   \n",
      "16      27.475067      7.738800         0.000000        0.000000           50   \n",
      "17     165.061451      7.692041         0.000000        0.000000           50   \n",
      "18      56.193638      8.723068        10.231540        0.046441           50   \n",
      "19      87.604262     13.357336        29.000221        6.296128           50   \n",
      "20      27.964908      1.177312         0.000000        0.000000          100   \n",
      "21      75.604273      4.077948         0.000000        0.000000          100   \n",
      "22      24.201808      2.564455        10.010161        5.881940          100   \n",
      "23      25.078216      0.317654         5.030887        0.445104          100   \n",
      "\n",
      "   param_clf__penalty param_vect__ngram_range  \\\n",
      "0                  l1                  (1, 2)   \n",
      "1                  l1                  (1, 3)   \n",
      "2                  l2                  (1, 2)   \n",
      "3                  l2                  (1, 3)   \n",
      "4                  l1                  (1, 2)   \n",
      "5                  l1                  (1, 3)   \n",
      "6                  l2                  (1, 2)   \n",
      "7                  l2                  (1, 3)   \n",
      "8                  l1                  (1, 2)   \n",
      "9                  l1                  (1, 3)   \n",
      "10                 l2                  (1, 2)   \n",
      "11                 l2                  (1, 3)   \n",
      "12                 l1                  (1, 2)   \n",
      "13                 l1                  (1, 3)   \n",
      "14                 l2                  (1, 2)   \n",
      "15                 l2                  (1, 3)   \n",
      "16                 l1                  (1, 2)   \n",
      "17                 l1                  (1, 3)   \n",
      "18                 l2                  (1, 2)   \n",
      "19                 l2                  (1, 3)   \n",
      "20                 l1                  (1, 2)   \n",
      "21                 l1                  (1, 3)   \n",
      "22                 l2                  (1, 2)   \n",
      "23                 l2                  (1, 3)   \n",
      "\n",
      "                                               params  split0_test_score  \\\n",
      "0   {'clf__C': 0.5, 'clf__penalty': 'l1', 'vect__n...                NaN   \n",
      "1   {'clf__C': 0.5, 'clf__penalty': 'l1', 'vect__n...                NaN   \n",
      "2   {'clf__C': 0.5, 'clf__penalty': 'l2', 'vect__n...           0.931910   \n",
      "3   {'clf__C': 0.5, 'clf__penalty': 'l2', 'vect__n...           0.931709   \n",
      "4   {'clf__C': 1, 'clf__penalty': 'l1', 'vect__ngr...                NaN   \n",
      "5   {'clf__C': 1, 'clf__penalty': 'l1', 'vect__ngr...                NaN   \n",
      "6   {'clf__C': 1, 'clf__penalty': 'l2', 'vect__ngr...           0.937088   \n",
      "7   {'clf__C': 1, 'clf__penalty': 'l2', 'vect__ngr...           0.936973   \n",
      "8   {'clf__C': 5, 'clf__penalty': 'l1', 'vect__ngr...                NaN   \n",
      "9   {'clf__C': 5, 'clf__penalty': 'l1', 'vect__ngr...                NaN   \n",
      "10  {'clf__C': 5, 'clf__penalty': 'l2', 'vect__ngr...           0.940627   \n",
      "11  {'clf__C': 5, 'clf__penalty': 'l2', 'vect__ngr...           0.939562   \n",
      "12  {'clf__C': 10, 'clf__penalty': 'l1', 'vect__ng...                NaN   \n",
      "13  {'clf__C': 10, 'clf__penalty': 'l1', 'vect__ng...                NaN   \n",
      "14  {'clf__C': 10, 'clf__penalty': 'l2', 'vect__ng...           0.939275   \n",
      "15  {'clf__C': 10, 'clf__penalty': 'l2', 'vect__ng...           0.938066   \n",
      "16  {'clf__C': 50, 'clf__penalty': 'l1', 'vect__ng...                NaN   \n",
      "17  {'clf__C': 50, 'clf__penalty': 'l1', 'vect__ng...                NaN   \n",
      "18  {'clf__C': 50, 'clf__penalty': 'l2', 'vect__ng...           0.931191   \n",
      "19  {'clf__C': 50, 'clf__penalty': 'l2', 'vect__ng...           0.928228   \n",
      "20  {'clf__C': 100, 'clf__penalty': 'l1', 'vect__n...                NaN   \n",
      "21  {'clf__C': 100, 'clf__penalty': 'l1', 'vect__n...                NaN   \n",
      "22  {'clf__C': 100, 'clf__penalty': 'l2', 'vect__n...           0.927020   \n",
      "23  {'clf__C': 100, 'clf__penalty': 'l2', 'vect__n...           0.923050   \n",
      "\n",
      "    split1_test_score  mean_test_score  std_test_score  rank_test_score  \n",
      "0                 NaN              NaN             NaN               24  \n",
      "1                 NaN              NaN             NaN               20  \n",
      "2            0.931508         0.931709        0.000201                8  \n",
      "3            0.931565         0.931637        0.000072                9  \n",
      "4                 NaN              NaN             NaN               19  \n",
      "5                 NaN              NaN             NaN               16  \n",
      "6            0.936628         0.936858        0.000230                5  \n",
      "7            0.936053         0.936513        0.000460                6  \n",
      "8                 NaN              NaN             NaN               15  \n",
      "9                 NaN              NaN             NaN               23  \n",
      "10           0.941202         0.940914        0.000288                1  \n",
      "11           0.940655         0.940109        0.000547                3  \n",
      "12                NaN              NaN             NaN               13  \n",
      "13                NaN              NaN             NaN               14  \n",
      "14           0.941317         0.940296        0.001021                2  \n",
      "15           0.940885         0.939476        0.001410                4  \n",
      "16                NaN              NaN             NaN               17  \n",
      "17                NaN              NaN             NaN               18  \n",
      "18           0.936599         0.933895        0.002704                7  \n",
      "19           0.934327         0.931278        0.003049               10  \n",
      "20                NaN              NaN             NaN               21  \n",
      "21                NaN              NaN             NaN               22  \n",
      "22           0.932025         0.929523        0.002503               11  \n",
      "23           0.931105         0.927078        0.004027               12  \n"
     ]
    }
   ],
   "source": [
    "df = pd.DataFrame(clf.cv_results_)\n",
    "print(df)"
   ]
  },
  {
   "cell_type": "code",
   "execution_count": 37,
   "metadata": {},
   "outputs": [
    {
     "name": "stdout",
     "output_type": "stream",
     "text": [
      "   param_vect__ngram_range param_clf__penalty param_clf__C  \\\n",
      "0                   (1, 2)                 l1          0.5   \n",
      "1                   (1, 3)                 l1          0.5   \n",
      "2                   (1, 2)                 l2          0.5   \n",
      "3                   (1, 3)                 l2          0.5   \n",
      "4                   (1, 2)                 l1            1   \n",
      "5                   (1, 3)                 l1            1   \n",
      "6                   (1, 2)                 l2            1   \n",
      "7                   (1, 3)                 l2            1   \n",
      "8                   (1, 2)                 l1            5   \n",
      "9                   (1, 3)                 l1            5   \n",
      "10                  (1, 2)                 l2            5   \n",
      "11                  (1, 3)                 l2            5   \n",
      "12                  (1, 2)                 l1           10   \n",
      "13                  (1, 3)                 l1           10   \n",
      "14                  (1, 2)                 l2           10   \n",
      "15                  (1, 3)                 l2           10   \n",
      "16                  (1, 2)                 l1           50   \n",
      "17                  (1, 3)                 l1           50   \n",
      "18                  (1, 2)                 l2           50   \n",
      "19                  (1, 3)                 l2           50   \n",
      "20                  (1, 2)                 l1          100   \n",
      "21                  (1, 3)                 l1          100   \n",
      "22                  (1, 2)                 l2          100   \n",
      "23                  (1, 3)                 l2          100   \n",
      "\n",
      "   param_vect__ngram_range  mean_test_score  rank_test_score  \n",
      "0                   (1, 2)              NaN               24  \n",
      "1                   (1, 3)              NaN               20  \n",
      "2                   (1, 2)         0.931709                8  \n",
      "3                   (1, 3)         0.931637                9  \n",
      "4                   (1, 2)              NaN               19  \n",
      "5                   (1, 3)              NaN               16  \n",
      "6                   (1, 2)         0.936858                5  \n",
      "7                   (1, 3)         0.936513                6  \n",
      "8                   (1, 2)              NaN               15  \n",
      "9                   (1, 3)              NaN               23  \n",
      "10                  (1, 2)         0.940914                1  \n",
      "11                  (1, 3)         0.940109                3  \n",
      "12                  (1, 2)              NaN               13  \n",
      "13                  (1, 3)              NaN               14  \n",
      "14                  (1, 2)         0.940296                2  \n",
      "15                  (1, 3)         0.939476                4  \n",
      "16                  (1, 2)              NaN               17  \n",
      "17                  (1, 3)              NaN               18  \n",
      "18                  (1, 2)         0.933895                7  \n",
      "19                  (1, 3)         0.931278               10  \n",
      "20                  (1, 2)              NaN               21  \n",
      "21                  (1, 3)              NaN               22  \n",
      "22                  (1, 2)         0.929523               11  \n",
      "23                  (1, 3)         0.927078               12  \n"
     ]
    }
   ],
   "source": [
    "print(df[['param_vect__ngram_range','param_clf__penalty','param_clf__C', 'param_vect__ngram_range','mean_test_score', 'rank_test_score']])"
   ]
  },
  {
   "cell_type": "code",
   "execution_count": null,
   "metadata": {},
   "outputs": [
    {
     "name": "stdout",
     "output_type": "stream",
     "text": [
      "[CV 2/2; 2/24] START clf__C=0.5, clf__penalty=l1, vect__ngram_range=(1, 3)......\n",
      "[CV 2/2; 2/24] END clf__C=0.5, clf__penalty=l1, vect__ngram_range=(1, 3);, score=nan total time=  42.3s\n",
      "[CV 2/2; 8/24] START clf__C=1, clf__penalty=l2, vect__ngram_range=(1, 3)........\n",
      "[CV 2/2; 8/24] END clf__C=1, clf__penalty=l2, vect__ngram_range=(1, 3);, score=0.936 total time=  56.1s\n",
      "[CV 1/2; 16/24] START clf__C=10, clf__penalty=l2, vect__ngram_range=(1, 3)......\n",
      "[CV 1/2; 16/24] END clf__C=10, clf__penalty=l2, vect__ngram_range=(1, 3);, score=0.938 total time= 1.4min\n",
      "[CV 1/2; 23/24] START clf__C=100, clf__penalty=l2, vect__ngram_range=(1, 2).....\n",
      "[CV 1/2; 23/24] END clf__C=100, clf__penalty=l2, vect__ngram_range=(1, 2);, score=0.927 total time=  27.9s\n",
      "[CV 2/2; 1/24] START clf__C=0.5, clf__penalty=l1, vect__ngram_range=(1, 2)......\n",
      "[CV 2/2; 1/24] END clf__C=0.5, clf__penalty=l1, vect__ngram_range=(1, 2);, score=nan total time=  11.9s\n",
      "[CV 2/2; 5/24] START clf__C=1, clf__penalty=l1, vect__ngram_range=(1, 2)........\n",
      "[CV 2/2; 5/24] END clf__C=1, clf__penalty=l1, vect__ngram_range=(1, 2);, score=nan total time=  14.1s\n",
      "[CV 2/2; 7/24] START clf__C=1, clf__penalty=l2, vect__ngram_range=(1, 2)........\n",
      "[CV 2/2; 7/24] END clf__C=1, clf__penalty=l2, vect__ngram_range=(1, 2);, score=0.937 total time=  19.4s\n",
      "[CV 2/2; 9/24] START clf__C=5, clf__penalty=l1, vect__ngram_range=(1, 2)........\n",
      "[CV 2/2; 9/24] END clf__C=5, clf__penalty=l1, vect__ngram_range=(1, 2);, score=nan total time=  12.1s\n",
      "[CV 2/2; 12/24] START clf__C=5, clf__penalty=l2, vect__ngram_range=(1, 3).......\n",
      "[CV 2/2; 12/24] END clf__C=5, clf__penalty=l2, vect__ngram_range=(1, 3);, score=0.941 total time= 1.0min\n",
      "[CV 2/2; 17/24] START clf__C=50, clf__penalty=l1, vect__ngram_range=(1, 2)......\n",
      "[CV 2/2; 17/24] END clf__C=50, clf__penalty=l1, vect__ngram_range=(1, 2);, score=nan total time=  26.8s\n",
      "[CV 2/2; 19/24] START clf__C=50, clf__penalty=l2, vect__ngram_range=(1, 2)......\n",
      "[CV 2/2; 19/24] END clf__C=50, clf__penalty=l2, vect__ngram_range=(1, 2);, score=0.937 total time=  24.6s\n",
      "[CV 1/2; 22/24] START clf__C=100, clf__penalty=l1, vect__ngram_range=(1, 3).....\n",
      "[CV 1/2; 22/24] END clf__C=100, clf__penalty=l1, vect__ngram_range=(1, 3);, score=nan total time=  33.2s\n",
      "[CV 1/2; 3/24] START clf__C=0.5, clf__penalty=l2, vect__ngram_range=(1, 2)......\n",
      "[CV 1/2; 3/24] END clf__C=0.5, clf__penalty=l2, vect__ngram_range=(1, 2);, score=0.932 total time=  19.7s\n",
      "[CV 1/2; 6/24] START clf__C=1, clf__penalty=l1, vect__ngram_range=(1, 3)........\n",
      "[CV 1/2; 6/24] END clf__C=1, clf__penalty=l1, vect__ngram_range=(1, 3);, score=nan total time=  34.7s\n",
      "[CV 1/2; 11/24] START clf__C=5, clf__penalty=l2, vect__ngram_range=(1, 2).......\n",
      "[CV 1/2; 11/24] END clf__C=5, clf__penalty=l2, vect__ngram_range=(1, 2);, score=0.941 total time=  28.2s\n",
      "[CV 1/2; 13/24] START clf__C=10, clf__penalty=l1, vect__ngram_range=(1, 2)......\n",
      "[CV 1/2; 13/24] END clf__C=10, clf__penalty=l1, vect__ngram_range=(1, 2);, score=nan total time=  14.6s\n",
      "[CV 1/2; 15/24] START clf__C=10, clf__penalty=l2, vect__ngram_range=(1, 2)......\n",
      "[CV 1/2; 15/24] END clf__C=10, clf__penalty=l2, vect__ngram_range=(1, 2);, score=0.939 total time=  26.7s\n",
      "[CV 1/2; 18/24] START clf__C=50, clf__penalty=l1, vect__ngram_range=(1, 3)......\n",
      "[CV 1/2; 18/24] END clf__C=50, clf__penalty=l1, vect__ngram_range=(1, 3);, score=nan total time=  42.2s\n",
      "[CV 2/2; 21/24] START clf__C=100, clf__penalty=l1, vect__ngram_range=(1, 2).....\n",
      "[CV 2/2; 21/24] END clf__C=100, clf__penalty=l1, vect__ngram_range=(1, 2);, score=nan total time=  15.4s\n",
      "[CV 2/2; 23/24] START clf__C=100, clf__penalty=l2, vect__ngram_range=(1, 2).....\n",
      "[CV 2/2; 23/24] END clf__C=100, clf__penalty=l2, vect__ngram_range=(1, 2);, score=0.932 total time=  20.4s\n",
      "[CV 1/2; 1/24] START clf__C=0.5, clf__penalty=l1, vect__ngram_range=(1, 2)......\n",
      "[CV 1/2; 1/24] END clf__C=0.5, clf__penalty=l1, vect__ngram_range=(1, 2);, score=nan total time=  11.2s\n",
      "[CV 1/2; 5/24] START clf__C=1, clf__penalty=l1, vect__ngram_range=(1, 2)........\n",
      "[CV 1/2; 5/24] END clf__C=1, clf__penalty=l1, vect__ngram_range=(1, 2);, score=nan total time=  14.6s\n",
      "[CV 1/2; 7/24] START clf__C=1, clf__penalty=l2, vect__ngram_range=(1, 2)........\n",
      "[CV 1/2; 7/24] END clf__C=1, clf__penalty=l2, vect__ngram_range=(1, 2);, score=0.937 total time=  21.1s\n",
      "[CV 1/2; 9/24] START clf__C=5, clf__penalty=l1, vect__ngram_range=(1, 2)........\n",
      "[CV 1/2; 9/24] END clf__C=5, clf__penalty=l1, vect__ngram_range=(1, 2);, score=nan total time=  11.7s\n",
      "[CV 1/2; 12/24] START clf__C=5, clf__penalty=l2, vect__ngram_range=(1, 3).......\n",
      "[CV 1/2; 12/24] END clf__C=5, clf__penalty=l2, vect__ngram_range=(1, 3);, score=0.940 total time=  57.2s\n",
      "[CV 1/2; 17/24] START clf__C=50, clf__penalty=l1, vect__ngram_range=(1, 2)......\n",
      "[CV 1/2; 17/24] END clf__C=50, clf__penalty=l1, vect__ngram_range=(1, 2);, score=nan total time=  23.1s\n",
      "[CV 1/2; 19/24] START clf__C=50, clf__penalty=l2, vect__ngram_range=(1, 2)......\n",
      "[CV 1/2; 19/24] END clf__C=50, clf__penalty=l2, vect__ngram_range=(1, 2);, score=0.931 total time=  25.2s\n",
      "[CV 1/2; 21/24] START clf__C=100, clf__penalty=l1, vect__ngram_range=(1, 2).....\n",
      "[CV 1/2; 21/24] END clf__C=100, clf__penalty=l1, vect__ngram_range=(1, 2);, score=nan total time=  11.3s\n",
      "[CV 2/2; 22/24] START clf__C=100, clf__penalty=l1, vect__ngram_range=(1, 3).....\n",
      "[CV 2/2; 22/24] END clf__C=100, clf__penalty=l1, vect__ngram_range=(1, 3);, score=nan total time=  37.9s\n",
      "[CV 1/2; 2/24] START clf__C=0.5, clf__penalty=l1, vect__ngram_range=(1, 3)......\n",
      "[CV 1/2; 2/24] END clf__C=0.5, clf__penalty=l1, vect__ngram_range=(1, 3);, score=nan total time=  41.4s\n",
      "[CV 1/2; 8/24] START clf__C=1, clf__penalty=l2, vect__ngram_range=(1, 3)........\n",
      "[CV 1/2; 8/24] END clf__C=1, clf__penalty=l2, vect__ngram_range=(1, 3);, score=0.937 total time=  53.3s\n",
      "[CV 2/2; 14/24] START clf__C=10, clf__penalty=l1, vect__ngram_range=(1, 3)......\n",
      "[CV 2/2; 14/24] END clf__C=10, clf__penalty=l1, vect__ngram_range=(1, 3);, score=nan total time= 1.2min\n",
      "[CV 2/2; 20/24] START clf__C=50, clf__penalty=l2, vect__ngram_range=(1, 3)......\n",
      "[CV 2/2; 20/24] END clf__C=50, clf__penalty=l2, vect__ngram_range=(1, 3);, score=0.934 total time=  51.5s\n",
      "[CV 2/2; 4/24] START clf__C=0.5, clf__penalty=l2, vect__ngram_range=(1, 3)......\n",
      "[CV 2/2; 4/24] END clf__C=0.5, clf__penalty=l2, vect__ngram_range=(1, 3);, score=0.932 total time=  49.1s\n",
      "[CV 1/2; 10/24] START clf__C=5, clf__penalty=l1, vect__ngram_range=(1, 3).......\n",
      "[CV 1/2; 10/24] END clf__C=5, clf__penalty=l1, vect__ngram_range=(1, 3);, score=nan total time=  37.9s\n",
      "[CV 1/2; 14/24] START clf__C=10, clf__penalty=l1, vect__ngram_range=(1, 3)......\n",
      "[CV 1/2; 14/24] END clf__C=10, clf__penalty=l1, vect__ngram_range=(1, 3);, score=nan total time= 1.3min\n",
      "[CV 1/2; 20/24] START clf__C=50, clf__penalty=l2, vect__ngram_range=(1, 3)......\n",
      "[CV 1/2; 20/24] END clf__C=50, clf__penalty=l2, vect__ngram_range=(1, 3);, score=0.928 total time=  53.1s\n",
      "[CV 1/2; 4/24] START clf__C=0.5, clf__penalty=l2, vect__ngram_range=(1, 3)......\n",
      "[CV 1/2; 4/24] END clf__C=0.5, clf__penalty=l2, vect__ngram_range=(1, 3);, score=0.932 total time=  53.3s\n",
      "[CV 2/2; 10/24] START clf__C=5, clf__penalty=l1, vect__ngram_range=(1, 3).......\n",
      "[CV 2/2; 10/24] END clf__C=5, clf__penalty=l1, vect__ngram_range=(1, 3);, score=nan total time=  46.7s\n",
      "[CV 2/2; 15/24] START clf__C=10, clf__penalty=l2, vect__ngram_range=(1, 2)......\n",
      "[CV 2/2; 15/24] END clf__C=10, clf__penalty=l2, vect__ngram_range=(1, 2);, score=0.941 total time=  30.6s\n",
      "[CV 2/2; 18/24] START clf__C=50, clf__penalty=l1, vect__ngram_range=(1, 3)......\n",
      "[CV 2/2; 18/24] END clf__C=50, clf__penalty=l1, vect__ngram_range=(1, 3);, score=nan total time=  57.5s\n",
      "[CV 1/2; 24/24] START clf__C=100, clf__penalty=l2, vect__ngram_range=(1, 3).....\n",
      "[CV 1/2; 24/24] END clf__C=100, clf__penalty=l2, vect__ngram_range=(1, 3);, score=0.923 total time=  32.0s\n",
      "[CV 2/2; 3/24] START clf__C=0.5, clf__penalty=l2, vect__ngram_range=(1, 2)......\n",
      "[CV 2/2; 3/24] END clf__C=0.5, clf__penalty=l2, vect__ngram_range=(1, 2);, score=0.932 total time=  20.5s\n",
      "[CV 2/2; 6/24] START clf__C=1, clf__penalty=l1, vect__ngram_range=(1, 3)........\n",
      "[CV 2/2; 6/24] END clf__C=1, clf__penalty=l1, vect__ngram_range=(1, 3);, score=nan total time=  36.6s\n",
      "[CV 2/2; 11/24] START clf__C=5, clf__penalty=l2, vect__ngram_range=(1, 2).......\n",
      "[CV 2/2; 11/24] END clf__C=5, clf__penalty=l2, vect__ngram_range=(1, 2);, score=0.941 total time=  28.8s\n",
      "[CV 2/2; 13/24] START clf__C=10, clf__penalty=l1, vect__ngram_range=(1, 2)......\n",
      "[CV 2/2; 13/24] END clf__C=10, clf__penalty=l1, vect__ngram_range=(1, 2);, score=nan total time=  15.1s\n",
      "[CV 2/2; 16/24] START clf__C=10, clf__penalty=l2, vect__ngram_range=(1, 3)......\n",
      "[CV 2/2; 16/24] END clf__C=10, clf__penalty=l2, vect__ngram_range=(1, 3);, score=0.941 total time= 1.5min\n",
      "[CV 2/2; 24/24] START clf__C=100, clf__penalty=l2, vect__ngram_range=(1, 3).....\n",
      "[CV 2/2; 24/24] END clf__C=100, clf__penalty=l2, vect__ngram_range=(1, 3);, score=0.931 total time=  27.4s\n"
     ]
    }
   ],
   "source": [
    "print(“Best score: %0.3f” % clf._best_score_)\n",
    "print(clf._best_params_)"
   ]
  },
  {
   "cell_type": "markdown",
   "metadata": {},
   "source": [
    "## Lessons Learnt"
   ]
  },
  {
   "cell_type": "markdown",
   "metadata": {},
   "source": [
    "### g. What hyperparameter tuning did you do, and by how many percentage points did your accuracy go up because of hyper-parameter tuning?\n",
    "\n",
    "I give paramters for the n_gram, clf_penalty, clf_c, and vect_n_gram_range .\n",
    "And the best result is the n_gram: (1,2), clf_penalty: l2, clf_c: 5, vect_n_gram_range: (1,2) \n",
    "\n",
    "### h. What did you learn from the different metrics? How useful was it to use cross-validation?\n",
    "Different models have different paramterss. We use k-fold cross-validation and set k = 2. Therefore, we attempt to maximize the use of the available data for training and then testing a model\n",
    "\n",
    "### i. What are your best final Result Metrics? What is the increase in accuracy compared to thestrawman figure? Which model gave you this performance?\n",
    "LogisticRegression model gave me the best result.\n",
    "The accuracy improves from 0.91 to 0.94 after the hypermeter tuning\n",
    "\n",
    "### j. What is the most interesting thing you learned from doing the report?\n",
    "Oversampling will not necessarily improve the performance of the model\n",
    "\n",
    "### k. What was the hardest thing to do?\n",
    "Run the ML model over and over again, and compare the confusion table."
   ]
  },
  {
   "cell_type": "markdown",
   "metadata": {},
   "source": [
    "## Prevalence of personal attacks by namespace\n",
    "In this section we use our classifier in conjunction with the [Wikipedia Talk Corpus](https://figshare.com/articles/Wikipedia_Talk_Corpus/4264973) to see if personal attacks are more common on user talk or article talk page discussions. In our paper we show that the model is not biased by namespace."
   ]
  },
  {
   "cell_type": "code",
   "execution_count": null,
   "metadata": {},
   "outputs": [],
   "source": [
    "import os\n",
    "import re\n",
    "from scipy.stats import bernoulli\n",
    "%matplotlib inline\n",
    "import seaborn as sns\n",
    "import matplotlib.pyplot as plt"
   ]
  },
  {
   "cell_type": "code",
   "execution_count": null,
   "metadata": {},
   "outputs": [],
   "source": [
    "# download and untar data\n",
    "\n",
    "USER_TALK_CORPUS_2004_URL = 'https://ndownloader.figshare.com/files/6982061'\n",
    "ARTICLE_TALK_CORPUS_2004_URL = 'https://ndownloader.figshare.com/files/7038050'\n",
    "\n",
    "download_file(USER_TALK_CORPUS_2004_URL, 'comments_user_2004.tar.gz')\n",
    "download_file(ARTICLE_TALK_CORPUS_2004_URL,  'comments_article_2004.tar.gz')\n",
    "\n",
    "os.system('tar -xzf comments_user_2004.tar.gz')\n",
    "os.system('tar -xzf comments_article_2004.tar.gz')"
   ]
  },
  {
   "cell_type": "code",
   "execution_count": null,
   "metadata": {},
   "outputs": [],
   "source": [
    "# helper for collecting a sample of comments for a given ns and year from \n",
    "def load_no_bot_no_admin(ns, year, prob = 0.1):\n",
    "    \n",
    "    dfs = []\n",
    "    \n",
    "    data_dir = \"comments_%s_%d\" % (ns, year)\n",
    "    for _, _, filenames in os.walk(data_dir):\n",
    "        for filename in filenames:\n",
    "            if re.match(\"chunk_\\d*.tsv\", filename):\n",
    "                df = pd.read_csv(os.path.join(data_dir, filename), sep = \"\\t\")\n",
    "                df['include'] = bernoulli.rvs(prob, size=df.shape[0])\n",
    "                df = df.query(\"bot == 0 and admin == 0 and include == 1\")\n",
    "                dfs.append(df)\n",
    "                \n",
    "    sample = pd.concat(dfs)\n",
    "    sample['ns'] = ns\n",
    "    sample['year'] = year\n",
    "    \n",
    "    return sample"
   ]
  },
  {
   "cell_type": "code",
   "execution_count": null,
   "metadata": {},
   "outputs": [],
   "source": [
    "# collect a random sample of comments from 2004 for each namespace\n",
    "corpus_user = load_no_bot_no_admin('user', 2004)\n",
    "corpus_article = load_no_bot_no_admin('article', 2004)\n",
    "corpus = pd.concat([corpus_user, corpus_article])"
   ]
  },
  {
   "cell_type": "code",
   "execution_count": null,
   "metadata": {},
   "outputs": [],
   "source": [
    "# Apply model\n",
    "corpus['comment'] = corpus['comment'].apply(lambda x: x.replace(\"NEWLINE_TOKEN\", \" \"))\n",
    "corpus['comment'] = corpus['comment'].apply(lambda x: x.replace(\"TAB_TOKEN\", \" \"))\n",
    "corpus['attack'] = clf.predict_proba(corpus['comment'])[:,1] > 0.425 # see paper"
   ]
  },
  {
   "cell_type": "code",
   "execution_count": null,
   "metadata": {},
   "outputs": [],
   "source": [
    "# plot prevalence per ns\n",
    "\n",
    "sns.pointplot(data = corpus, x = 'ns', y = 'attack')\n",
    "plt.ylabel(\"Attack fraction\")\n",
    "plt.xlabel(\"Dicussion namespace\")\n",
    "plt.show()"
   ]
  },
  {
   "cell_type": "markdown",
   "metadata": {},
   "source": [
    "Attacks are far more prevalent in the user talk namespace."
   ]
  }
 ],
 "metadata": {
  "anaconda-cloud": {},
  "kernelspec": {
   "display_name": "Python 3 (ipykernel)",
   "language": "python",
   "name": "python3"
  },
  "language_info": {
   "codemirror_mode": {
    "name": "ipython",
    "version": 3
   },
   "file_extension": ".py",
   "mimetype": "text/x-python",
   "name": "python",
   "nbconvert_exporter": "python",
   "pygments_lexer": "ipython3",
   "version": "3.9.1"
  }
 },
 "nbformat": 4,
 "nbformat_minor": 1
}
